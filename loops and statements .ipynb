{
 "cells": [
  {
   "cell_type": "code",
   "execution_count": null,
   "metadata": {},
   "outputs": [],
   "source": [
    "x=int(input(\"enter x:\"))                             #task 9 using nested if\n",
    "y=int(input(\"enter y:\"))\n",
    "print(\"press 1 for addition\")\n",
    "print(\"press 2 for sub\")\n",
    "print(\"press 3 for multi\")\n",
    "print(\"press 4 for division\")\n",
    "c=int(input(\"press any number from 1 to 4 :\"))\n",
    "if(c<=3):\n",
    "    print(\"processing...\")\n",
    "    if(c == 1):\n",
    "        print(x+y)\n",
    "    elif(c == 2):\n",
    "        print(x-y)\n",
    "    else:\n",
    "        print(x*y)\n",
    "else:\n",
    "    print(\"processing...\")\n",
    "    print(x//y)\n"
   ]
  },
  {
   "cell_type": "code",
   "execution_count": null,
   "metadata": {},
   "outputs": [],
   "source": [
    "count=1\n",
    "while(count<11):\n",
    "    print(count)\n",
    "    count+=1\n",
    "else:\n",
    "    print(\"end of the loop\")\n",
    "    \n",
    "    "
   ]
  },
  {
   "cell_type": "code",
   "execution_count": null,
   "metadata": {},
   "outputs": [],
   "source": [
    "count=0                #to execute only even numbers\n",
    "while(count<=10):\n",
    "    count+=1\n",
    "    if(count%2!=0):\n",
    "        continue\n",
    "    else:\n",
    "        print(count)\n",
    "        "
   ]
  },
  {
   "cell_type": "code",
   "execution_count": null,
   "metadata": {},
   "outputs": [],
   "source": []
  }
 ],
 "metadata": {
  "kernelspec": {
   "display_name": "Python 3",
   "language": "python",
   "name": "python3"
  },
  "language_info": {
   "codemirror_mode": {
    "name": "ipython",
    "version": 3
   },
   "file_extension": ".py",
   "mimetype": "text/x-python",
   "name": "python",
   "nbconvert_exporter": "python",
   "pygments_lexer": "ipython3",
   "version": "3.8.5"
  }
 },
 "nbformat": 4,
 "nbformat_minor": 4
}
