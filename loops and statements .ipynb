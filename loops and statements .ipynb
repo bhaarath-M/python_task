{
 "cells": [
  {
   "cell_type": "code",
   "execution_count": 1,
   "metadata": {},
   "outputs": [
    {
     "name": "stdout",
     "output_type": "stream",
     "text": [
      "enter x:10\n",
      "enter y:10\n",
      "press 1 for addition\n",
      "press 2 for sub\n",
      "press 3 for multi\n",
      "press 4 for division\n",
      "press any number from 1 to 4 :4\n",
      "processing...\n",
      "1\n"
     ]
    }
   ],
   "source": [
    "x=int(input(\"enter x:\"))                             #task 9 using nested if\n",
    "y=int(input(\"enter y:\"))\n",
    "print(\"press 1 for addition\")\n",
    "print(\"press 2 for sub\")\n",
    "print(\"press 3 for multi\")\n",
    "print(\"press 4 for division\")\n",
    "c=int(input(\"press any number from 1 to 4 :\"))\n",
    "if(c<=3):\n",
    "    print(\"processing...\")\n",
    "    if(c == 1):\n",
    "        print(x+y)\n",
    "    elif(c == 2):\n",
    "        print(x-y)\n",
    "    else:\n",
    "        print(x*y)\n",
    "else:\n",
    "    print(\"processing...\")\n",
    "    print(x//y)\n"
   ]
  },
  {
   "cell_type": "code",
   "execution_count": 2,
   "metadata": {},
   "outputs": [
    {
     "name": "stdout",
     "output_type": "stream",
     "text": [
      "1\n",
      "2\n",
      "3\n",
      "4\n",
      "5\n",
      "6\n",
      "7\n",
      "8\n",
      "9\n",
      "10\n",
      "end of the loop\n"
     ]
    }
   ],
   "source": [
    "count=1\n",
    "while(count<11):\n",
    "    print(count)\n",
    "    count+=1\n",
    "else:\n",
    "    print(\"end of the loop\")\n",
    "    \n",
    "    "
   ]
  },
  {
   "cell_type": "code",
   "execution_count": 3,
   "metadata": {},
   "outputs": [
    {
     "name": "stdout",
     "output_type": "stream",
     "text": [
      "2\n",
      "4\n",
      "6\n",
      "8\n",
      "10\n"
     ]
    }
   ],
   "source": [
    "count=0                #to execute only even numbers\n",
    "while(count<=10):\n",
    "    count+=1\n",
    "    if(count%2!=0):\n",
    "        continue\n",
    "    else:\n",
    "        print(count)\n",
    "        "
   ]
  },
  {
   "cell_type": "code",
   "execution_count": null,
   "metadata": {},
   "outputs": [],
   "source": []
  }
 ],
 "metadata": {
  "kernelspec": {
   "display_name": "Python 3",
   "language": "python",
   "name": "python3"
  },
  "language_info": {
   "codemirror_mode": {
    "name": "ipython",
    "version": 3
   },
   "file_extension": ".py",
   "mimetype": "text/x-python",
   "name": "python",
   "nbconvert_exporter": "python",
   "pygments_lexer": "ipython3",
   "version": "3.8.5"
  }
 },
 "nbformat": 4,
 "nbformat_minor": 4
}
