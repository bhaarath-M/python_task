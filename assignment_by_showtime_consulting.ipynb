{
  "nbformat": 4,
  "nbformat_minor": 0,
  "metadata": {
    "colab": {
      "name": "assignment by showtime consulting.ipynb",
      "provenance": [],
      "collapsed_sections": [],
      "authorship_tag": "ABX9TyPlkzQ68U5Ri/jS97tSkDXu",
      "include_colab_link": true
    },
    "kernelspec": {
      "name": "python3",
      "display_name": "Python 3"
    },
    "language_info": {
      "name": "python"
    }
  },
  "cells": [
    {
      "cell_type": "markdown",
      "metadata": {
        "id": "view-in-github",
        "colab_type": "text"
      },
      "source": [
        "<a href=\"https://colab.research.google.com/github/bhaarath-M/python_task/blob/main/assignment_by_showtime_consulting.ipynb\" target=\"_parent\"><img src=\"https://colab.research.google.com/assets/colab-badge.svg\" alt=\"Open In Colab\"/></a>"
      ]
    },
    {
      "cell_type": "markdown",
      "metadata": {
        "id": "HJVNEwvmKERa"
      },
      "source": [
        "#  Exploratory Data Analysis on Facebook Utilization Data\n"
      ]
    },
    {
      "cell_type": "code",
      "metadata": {
        "id": "ENjoKJEPe9Zd"
      },
      "source": [
        "import numpy as np\n",
        "import pandas as pd\n",
        "import seaborn as sns\n",
        "import matplotlib.pyplot as plt\n"
      ],
      "execution_count": 133,
      "outputs": []
    },
    {
      "cell_type": "code",
      "metadata": {
        "colab": {
          "base_uri": "https://localhost:8080/",
          "height": 223
        },
        "id": "gU42-ZV8fa_Y",
        "outputId": "f109a993-147f-48ff-91bf-33b97d694545"
      },
      "source": [
        "data=pd.read_excel(\"/content/facebook user data.xlsx\")\n",
        "data.head()"
      ],
      "execution_count": 134,
      "outputs": [
        {
          "output_type": "execute_result",
          "data": {
            "text/html": [
              "<div>\n",
              "<style scoped>\n",
              "    .dataframe tbody tr th:only-of-type {\n",
              "        vertical-align: middle;\n",
              "    }\n",
              "\n",
              "    .dataframe tbody tr th {\n",
              "        vertical-align: top;\n",
              "    }\n",
              "\n",
              "    .dataframe thead th {\n",
              "        text-align: right;\n",
              "    }\n",
              "</style>\n",
              "<table border=\"1\" class=\"dataframe\">\n",
              "  <thead>\n",
              "    <tr style=\"text-align: right;\">\n",
              "      <th></th>\n",
              "      <th>userid</th>\n",
              "      <th>age</th>\n",
              "      <th>dob_day</th>\n",
              "      <th>dob_year</th>\n",
              "      <th>dob_month</th>\n",
              "      <th>gender</th>\n",
              "      <th>tenure</th>\n",
              "      <th>friend_count</th>\n",
              "      <th>friendships_initiated</th>\n",
              "      <th>likes</th>\n",
              "      <th>likes_received</th>\n",
              "      <th>mobile_likes</th>\n",
              "      <th>mobile_likes_received</th>\n",
              "      <th>www_likes</th>\n",
              "      <th>www_likes_received</th>\n",
              "    </tr>\n",
              "  </thead>\n",
              "  <tbody>\n",
              "    <tr>\n",
              "      <th>0</th>\n",
              "      <td>2094382</td>\n",
              "      <td>14</td>\n",
              "      <td>19</td>\n",
              "      <td>1999</td>\n",
              "      <td>11</td>\n",
              "      <td>male</td>\n",
              "      <td>266.0</td>\n",
              "      <td>0</td>\n",
              "      <td>0</td>\n",
              "      <td>0</td>\n",
              "      <td>0</td>\n",
              "      <td>0</td>\n",
              "      <td>0</td>\n",
              "      <td>0</td>\n",
              "      <td>0</td>\n",
              "    </tr>\n",
              "    <tr>\n",
              "      <th>1</th>\n",
              "      <td>1192601</td>\n",
              "      <td>14</td>\n",
              "      <td>2</td>\n",
              "      <td>1999</td>\n",
              "      <td>11</td>\n",
              "      <td>female</td>\n",
              "      <td>6.0</td>\n",
              "      <td>0</td>\n",
              "      <td>0</td>\n",
              "      <td>0</td>\n",
              "      <td>0</td>\n",
              "      <td>0</td>\n",
              "      <td>0</td>\n",
              "      <td>0</td>\n",
              "      <td>0</td>\n",
              "    </tr>\n",
              "    <tr>\n",
              "      <th>2</th>\n",
              "      <td>2083884</td>\n",
              "      <td>14</td>\n",
              "      <td>16</td>\n",
              "      <td>1999</td>\n",
              "      <td>11</td>\n",
              "      <td>male</td>\n",
              "      <td>13.0</td>\n",
              "      <td>0</td>\n",
              "      <td>0</td>\n",
              "      <td>0</td>\n",
              "      <td>0</td>\n",
              "      <td>0</td>\n",
              "      <td>0</td>\n",
              "      <td>0</td>\n",
              "      <td>0</td>\n",
              "    </tr>\n",
              "    <tr>\n",
              "      <th>3</th>\n",
              "      <td>1203168</td>\n",
              "      <td>14</td>\n",
              "      <td>25</td>\n",
              "      <td>1999</td>\n",
              "      <td>12</td>\n",
              "      <td>female</td>\n",
              "      <td>93.0</td>\n",
              "      <td>0</td>\n",
              "      <td>0</td>\n",
              "      <td>0</td>\n",
              "      <td>0</td>\n",
              "      <td>0</td>\n",
              "      <td>0</td>\n",
              "      <td>0</td>\n",
              "      <td>0</td>\n",
              "    </tr>\n",
              "    <tr>\n",
              "      <th>4</th>\n",
              "      <td>1733186</td>\n",
              "      <td>14</td>\n",
              "      <td>4</td>\n",
              "      <td>1999</td>\n",
              "      <td>12</td>\n",
              "      <td>male</td>\n",
              "      <td>82.0</td>\n",
              "      <td>0</td>\n",
              "      <td>0</td>\n",
              "      <td>0</td>\n",
              "      <td>0</td>\n",
              "      <td>0</td>\n",
              "      <td>0</td>\n",
              "      <td>0</td>\n",
              "      <td>0</td>\n",
              "    </tr>\n",
              "  </tbody>\n",
              "</table>\n",
              "</div>"
            ],
            "text/plain": [
              "    userid  age  dob_day  ...  mobile_likes_received  www_likes www_likes_received\n",
              "0  2094382   14       19  ...                      0          0                  0\n",
              "1  1192601   14        2  ...                      0          0                  0\n",
              "2  2083884   14       16  ...                      0          0                  0\n",
              "3  1203168   14       25  ...                      0          0                  0\n",
              "4  1733186   14        4  ...                      0          0                  0\n",
              "\n",
              "[5 rows x 15 columns]"
            ]
          },
          "metadata": {},
          "execution_count": 134
        }
      ]
    },
    {
      "cell_type": "code",
      "metadata": {
        "colab": {
          "base_uri": "https://localhost:8080/"
        },
        "id": "sQoI2OY-fv9e",
        "outputId": "27ed0910-2147-4f17-ef48-10853d809e80"
      },
      "source": [
        "data.info(verbose=True)"
      ],
      "execution_count": 135,
      "outputs": [
        {
          "output_type": "stream",
          "text": [
            "<class 'pandas.core.frame.DataFrame'>\n",
            "RangeIndex: 99003 entries, 0 to 99002\n",
            "Data columns (total 15 columns):\n",
            " #   Column                 Non-Null Count  Dtype  \n",
            "---  ------                 --------------  -----  \n",
            " 0   userid                 99003 non-null  int64  \n",
            " 1   age                    99003 non-null  int64  \n",
            " 2   dob_day                99003 non-null  int64  \n",
            " 3   dob_year               99003 non-null  int64  \n",
            " 4   dob_month              99003 non-null  int64  \n",
            " 5   gender                 98828 non-null  object \n",
            " 6   tenure                 99001 non-null  float64\n",
            " 7   friend_count           99003 non-null  int64  \n",
            " 8   friendships_initiated  99003 non-null  int64  \n",
            " 9   likes                  99003 non-null  int64  \n",
            " 10  likes_received         99003 non-null  int64  \n",
            " 11  mobile_likes           99003 non-null  int64  \n",
            " 12  mobile_likes_received  99003 non-null  int64  \n",
            " 13  www_likes              99003 non-null  int64  \n",
            " 14  www_likes_received     99003 non-null  int64  \n",
            "dtypes: float64(1), int64(13), object(1)\n",
            "memory usage: 11.3+ MB\n"
          ],
          "name": "stdout"
        }
      ]
    },
    {
      "cell_type": "code",
      "metadata": {
        "colab": {
          "base_uri": "https://localhost:8080/"
        },
        "id": "UFplYen5f2YX",
        "outputId": "9ab17e0a-ac6e-44c2-a96b-4292d0e21034"
      },
      "source": [
        "data.isnull().sum()"
      ],
      "execution_count": 136,
      "outputs": [
        {
          "output_type": "execute_result",
          "data": {
            "text/plain": [
              "userid                     0\n",
              "age                        0\n",
              "dob_day                    0\n",
              "dob_year                   0\n",
              "dob_month                  0\n",
              "gender                   175\n",
              "tenure                     2\n",
              "friend_count               0\n",
              "friendships_initiated      0\n",
              "likes                      0\n",
              "likes_received             0\n",
              "mobile_likes               0\n",
              "mobile_likes_received      0\n",
              "www_likes                  0\n",
              "www_likes_received         0\n",
              "dtype: int64"
            ]
          },
          "metadata": {},
          "execution_count": 136
        }
      ]
    },
    {
      "cell_type": "code",
      "metadata": {
        "colab": {
          "base_uri": "https://localhost:8080/"
        },
        "id": "qLyKliFZf_Q1",
        "outputId": "16434055-a7ed-46f3-fa70-00154420a94f"
      },
      "source": [
        "data[\"age\"].value_counts()"
      ],
      "execution_count": 137,
      "outputs": [
        {
          "output_type": "execute_result",
          "data": {
            "text/plain": [
              "18     5196\n",
              "23     4404\n",
              "19     4391\n",
              "20     3769\n",
              "21     3671\n",
              "       ... \n",
              "87       42\n",
              "112      18\n",
              "111      18\n",
              "110      15\n",
              "109       9\n",
              "Name: age, Length: 101, dtype: int64"
            ]
          },
          "metadata": {},
          "execution_count": 137
        }
      ]
    },
    {
      "cell_type": "code",
      "metadata": {
        "colab": {
          "base_uri": "https://localhost:8080/",
          "height": 437
        },
        "id": "eHLjaWd6hLNQ",
        "outputId": "b09e7f29-2c66-453c-dee2-fddd1d433928"
      },
      "source": [
        "data[data.gender.isna()]"
      ],
      "execution_count": 138,
      "outputs": [
        {
          "output_type": "execute_result",
          "data": {
            "text/html": [
              "<div>\n",
              "<style scoped>\n",
              "    .dataframe tbody tr th:only-of-type {\n",
              "        vertical-align: middle;\n",
              "    }\n",
              "\n",
              "    .dataframe tbody tr th {\n",
              "        vertical-align: top;\n",
              "    }\n",
              "\n",
              "    .dataframe thead th {\n",
              "        text-align: right;\n",
              "    }\n",
              "</style>\n",
              "<table border=\"1\" class=\"dataframe\">\n",
              "  <thead>\n",
              "    <tr style=\"text-align: right;\">\n",
              "      <th></th>\n",
              "      <th>userid</th>\n",
              "      <th>age</th>\n",
              "      <th>dob_day</th>\n",
              "      <th>dob_year</th>\n",
              "      <th>dob_month</th>\n",
              "      <th>gender</th>\n",
              "      <th>tenure</th>\n",
              "      <th>friend_count</th>\n",
              "      <th>friendships_initiated</th>\n",
              "      <th>likes</th>\n",
              "      <th>likes_received</th>\n",
              "      <th>mobile_likes</th>\n",
              "      <th>mobile_likes_received</th>\n",
              "      <th>www_likes</th>\n",
              "      <th>www_likes_received</th>\n",
              "    </tr>\n",
              "  </thead>\n",
              "  <tbody>\n",
              "    <tr>\n",
              "      <th>3224</th>\n",
              "      <td>1781137</td>\n",
              "      <td>25</td>\n",
              "      <td>3</td>\n",
              "      <td>1988</td>\n",
              "      <td>1</td>\n",
              "      <td>NaN</td>\n",
              "      <td>203.0</td>\n",
              "      <td>1</td>\n",
              "      <td>1</td>\n",
              "      <td>1</td>\n",
              "      <td>0</td>\n",
              "      <td>1</td>\n",
              "      <td>0</td>\n",
              "      <td>0</td>\n",
              "      <td>0</td>\n",
              "    </tr>\n",
              "    <tr>\n",
              "      <th>4123</th>\n",
              "      <td>1110111</td>\n",
              "      <td>31</td>\n",
              "      <td>12</td>\n",
              "      <td>1982</td>\n",
              "      <td>1</td>\n",
              "      <td>NaN</td>\n",
              "      <td>227.0</td>\n",
              "      <td>2</td>\n",
              "      <td>2</td>\n",
              "      <td>0</td>\n",
              "      <td>0</td>\n",
              "      <td>0</td>\n",
              "      <td>0</td>\n",
              "      <td>0</td>\n",
              "      <td>0</td>\n",
              "    </tr>\n",
              "    <tr>\n",
              "      <th>5920</th>\n",
              "      <td>2000185</td>\n",
              "      <td>25</td>\n",
              "      <td>15</td>\n",
              "      <td>1988</td>\n",
              "      <td>2</td>\n",
              "      <td>NaN</td>\n",
              "      <td>239.0</td>\n",
              "      <td>4</td>\n",
              "      <td>4</td>\n",
              "      <td>0</td>\n",
              "      <td>0</td>\n",
              "      <td>0</td>\n",
              "      <td>0</td>\n",
              "      <td>0</td>\n",
              "      <td>0</td>\n",
              "    </tr>\n",
              "    <tr>\n",
              "      <th>6432</th>\n",
              "      <td>1137054</td>\n",
              "      <td>59</td>\n",
              "      <td>18</td>\n",
              "      <td>1954</td>\n",
              "      <td>2</td>\n",
              "      <td>NaN</td>\n",
              "      <td>2076.0</td>\n",
              "      <td>4</td>\n",
              "      <td>0</td>\n",
              "      <td>23</td>\n",
              "      <td>5</td>\n",
              "      <td>23</td>\n",
              "      <td>4</td>\n",
              "      <td>0</td>\n",
              "      <td>1</td>\n",
              "    </tr>\n",
              "    <tr>\n",
              "      <th>6870</th>\n",
              "      <td>1783336</td>\n",
              "      <td>62</td>\n",
              "      <td>5</td>\n",
              "      <td>1951</td>\n",
              "      <td>9</td>\n",
              "      <td>NaN</td>\n",
              "      <td>2047.0</td>\n",
              "      <td>5</td>\n",
              "      <td>0</td>\n",
              "      <td>0</td>\n",
              "      <td>1</td>\n",
              "      <td>0</td>\n",
              "      <td>1</td>\n",
              "      <td>0</td>\n",
              "      <td>0</td>\n",
              "    </tr>\n",
              "    <tr>\n",
              "      <th>...</th>\n",
              "      <td>...</td>\n",
              "      <td>...</td>\n",
              "      <td>...</td>\n",
              "      <td>...</td>\n",
              "      <td>...</td>\n",
              "      <td>...</td>\n",
              "      <td>...</td>\n",
              "      <td>...</td>\n",
              "      <td>...</td>\n",
              "      <td>...</td>\n",
              "      <td>...</td>\n",
              "      <td>...</td>\n",
              "      <td>...</td>\n",
              "      <td>...</td>\n",
              "      <td>...</td>\n",
              "    </tr>\n",
              "    <tr>\n",
              "      <th>94778</th>\n",
              "      <td>1748557</td>\n",
              "      <td>68</td>\n",
              "      <td>27</td>\n",
              "      <td>1945</td>\n",
              "      <td>4</td>\n",
              "      <td>NaN</td>\n",
              "      <td>1862.0</td>\n",
              "      <td>790</td>\n",
              "      <td>435</td>\n",
              "      <td>422</td>\n",
              "      <td>425</td>\n",
              "      <td>410</td>\n",
              "      <td>318</td>\n",
              "      <td>12</td>\n",
              "      <td>107</td>\n",
              "    </tr>\n",
              "    <tr>\n",
              "      <th>95317</th>\n",
              "      <td>2173780</td>\n",
              "      <td>50</td>\n",
              "      <td>11</td>\n",
              "      <td>1963</td>\n",
              "      <td>9</td>\n",
              "      <td>NaN</td>\n",
              "      <td>2129.0</td>\n",
              "      <td>863</td>\n",
              "      <td>389</td>\n",
              "      <td>49</td>\n",
              "      <td>781</td>\n",
              "      <td>24</td>\n",
              "      <td>327</td>\n",
              "      <td>25</td>\n",
              "      <td>454</td>\n",
              "    </tr>\n",
              "    <tr>\n",
              "      <th>95479</th>\n",
              "      <td>1442490</td>\n",
              "      <td>108</td>\n",
              "      <td>1</td>\n",
              "      <td>1905</td>\n",
              "      <td>7</td>\n",
              "      <td>NaN</td>\n",
              "      <td>1332.0</td>\n",
              "      <td>967</td>\n",
              "      <td>537</td>\n",
              "      <td>150</td>\n",
              "      <td>1311</td>\n",
              "      <td>76</td>\n",
              "      <td>671</td>\n",
              "      <td>74</td>\n",
              "      <td>640</td>\n",
              "    </tr>\n",
              "    <tr>\n",
              "      <th>97530</th>\n",
              "      <td>2119521</td>\n",
              "      <td>74</td>\n",
              "      <td>26</td>\n",
              "      <td>1939</td>\n",
              "      <td>9</td>\n",
              "      <td>NaN</td>\n",
              "      <td>1998.0</td>\n",
              "      <td>1609</td>\n",
              "      <td>348</td>\n",
              "      <td>313</td>\n",
              "      <td>834</td>\n",
              "      <td>179</td>\n",
              "      <td>696</td>\n",
              "      <td>134</td>\n",
              "      <td>138</td>\n",
              "    </tr>\n",
              "    <tr>\n",
              "      <th>98216</th>\n",
              "      <td>1966857</td>\n",
              "      <td>102</td>\n",
              "      <td>6</td>\n",
              "      <td>1911</td>\n",
              "      <td>12</td>\n",
              "      <td>NaN</td>\n",
              "      <td>2389.0</td>\n",
              "      <td>2548</td>\n",
              "      <td>1130</td>\n",
              "      <td>50</td>\n",
              "      <td>29</td>\n",
              "      <td>50</td>\n",
              "      <td>22</td>\n",
              "      <td>0</td>\n",
              "      <td>7</td>\n",
              "    </tr>\n",
              "  </tbody>\n",
              "</table>\n",
              "<p>175 rows × 15 columns</p>\n",
              "</div>"
            ],
            "text/plain": [
              "        userid  age  ...  www_likes  www_likes_received\n",
              "3224   1781137   25  ...          0                   0\n",
              "4123   1110111   31  ...          0                   0\n",
              "5920   2000185   25  ...          0                   0\n",
              "6432   1137054   59  ...          0                   1\n",
              "6870   1783336   62  ...          0                   0\n",
              "...        ...  ...  ...        ...                 ...\n",
              "94778  1748557   68  ...         12                 107\n",
              "95317  2173780   50  ...         25                 454\n",
              "95479  1442490  108  ...         74                 640\n",
              "97530  2119521   74  ...        134                 138\n",
              "98216  1966857  102  ...          0                   7\n",
              "\n",
              "[175 rows x 15 columns]"
            ]
          },
          "metadata": {},
          "execution_count": 138
        }
      ]
    },
    {
      "cell_type": "code",
      "metadata": {
        "id": "b0iq7H-RiKMt"
      },
      "source": [
        "mode=data.gender.mode()\n",
        "### A categorical or discrete variable is one that has two or more categories (values)\n",
        "### gender is a categorical variable having two categories (male and female) with no intrinsic ordering to the categories.\n",
        "### Mode/median is used to replace the NAN values in the gender column since the column contains categorical values"
      ],
      "execution_count": 139,
      "outputs": []
    },
    {
      "cell_type": "code",
      "metadata": {
        "id": "qMctuijHjm3H"
      },
      "source": [
        "data[\"gender\"]=data[\"gender\"].replace(np.NAN,mode[0])"
      ],
      "execution_count": 140,
      "outputs": []
    },
    {
      "cell_type": "code",
      "metadata": {
        "colab": {
          "base_uri": "https://localhost:8080/"
        },
        "id": "7Nve474rj1Jb",
        "outputId": "e7e43239-6dcd-4828-c39d-3cb1217c89e8"
      },
      "source": [
        "data.gender.isna().sum()"
      ],
      "execution_count": 141,
      "outputs": [
        {
          "output_type": "execute_result",
          "data": {
            "text/plain": [
              "0"
            ]
          },
          "metadata": {},
          "execution_count": 141
        }
      ]
    },
    {
      "cell_type": "code",
      "metadata": {
        "colab": {
          "base_uri": "https://localhost:8080/",
          "height": 296
        },
        "id": "_BHQEVYBj6FH",
        "outputId": "86e435cd-a261-4f9e-e227-cb66653006b8"
      },
      "source": [
        "sns.countplot(x=\"gender\",data=data,hue=\"gender\")"
      ],
      "execution_count": 142,
      "outputs": [
        {
          "output_type": "execute_result",
          "data": {
            "text/plain": [
              "<matplotlib.axes._subplots.AxesSubplot at 0x7fbb6f661350>"
            ]
          },
          "metadata": {},
          "execution_count": 142
        },
        {
          "output_type": "display_data",
          "data": {
            "image/png": "[encoded data removed]",
            "text/plain": [
              "<Figure size 432x288 with 1 Axes>"
            ]
          },
          "metadata": {
            "needs_background": "light"
          }
        }
      ]
    },
    {
      "cell_type": "code",
      "metadata": {
        "colab": {
          "base_uri": "https://localhost:8080/"
        },
        "id": "y1bdUcgVkDR8",
        "outputId": "69aa022d-42c0-4be3-fef6-7498f88b987f"
      },
      "source": [
        "data.gender.value_counts()"
      ],
      "execution_count": 143,
      "outputs": [
        {
          "output_type": "execute_result",
          "data": {
            "text/plain": [
              "male      58749\n",
              "female    40254\n",
              "Name: gender, dtype: int64"
            ]
          },
          "metadata": {},
          "execution_count": 143
        }
      ]
    },
    {
      "cell_type": "markdown",
      "metadata": {
        "id": "lVX-l7s1BV2N"
      },
      "source": [
        "### Number of male users is more than female users."
      ]
    },
    {
      "cell_type": "code",
      "metadata": {
        "id": "0KoodMJ2kGv0"
      },
      "source": [
        "median=int(data[\"tenure\"].median(skipna=True))\n",
        "data[\"tenure\"]=data[\"tenure\"].replace(np.NAN,median)\n",
        "### A numerical variable is a variable where the measurement or number has a numerical meaning\n",
        "### median is used to replace the NAN values in the tenure column since the column contains numeric variable."
      ],
      "execution_count": 144,
      "outputs": []
    },
    {
      "cell_type": "code",
      "metadata": {
        "colab": {
          "base_uri": "https://localhost:8080/"
        },
        "id": "SSh-FkMAs5gy",
        "outputId": "11d4449d-d342-43c2-9b2e-3aad59e057e9"
      },
      "source": [
        "data.isna().sum()"
      ],
      "execution_count": 145,
      "outputs": [
        {
          "output_type": "execute_result",
          "data": {
            "text/plain": [
              "userid                   0\n",
              "age                      0\n",
              "dob_day                  0\n",
              "dob_year                 0\n",
              "dob_month                0\n",
              "gender                   0\n",
              "tenure                   0\n",
              "friend_count             0\n",
              "friendships_initiated    0\n",
              "likes                    0\n",
              "likes_received           0\n",
              "mobile_likes             0\n",
              "mobile_likes_received    0\n",
              "www_likes                0\n",
              "www_likes_received       0\n",
              "dtype: int64"
            ]
          },
          "metadata": {},
          "execution_count": 145
        }
      ]
    },
    {
      "cell_type": "code",
      "metadata": {
        "colab": {
          "base_uri": "https://localhost:8080/",
          "height": 712
        },
        "id": "CRDQ2A4ss9QK",
        "outputId": "1c5f4cb8-7463-4353-8128-4319e34cc12b"
      },
      "source": [
        "plt.figure(figsize=(10,10))\n",
        "sns.heatmap(data.corr(),annot=True)\n"
      ],
      "execution_count": 146,
      "outputs": [
        {
          "output_type": "execute_result",
          "data": {
            "text/plain": [
              "<matplotlib.axes._subplots.AxesSubplot at 0x7fbb8008a1d0>"
            ]
          },
          "metadata": {},
          "execution_count": 146
        },
        {
          "output_type": "display_data",
          "data": {
            "image/png": "[encoded data removed]",
            "text/plain": [
              "<Figure size 720x720 with 2 Axes>"
            ]
          },
          "metadata": {
            "needs_background": "light"
          }
        }
      ]
    },
    {
      "cell_type": "code",
      "metadata": {
        "colab": {
          "base_uri": "https://localhost:8080/",
          "height": 110
        },
        "id": "cdbszPHQuUyT",
        "outputId": "a8bdaa7f-acba-482b-bb27-2f974742edae"
      },
      "source": [
        "data.groupby(\"gender\").sum()[\"friend_count\"].reset_index()"
      ],
      "execution_count": 147,
      "outputs": [
        {
          "output_type": "execute_result",
          "data": {
            "text/html": [
              "<div>\n",
              "<style scoped>\n",
              "    .dataframe tbody tr th:only-of-type {\n",
              "        vertical-align: middle;\n",
              "    }\n",
              "\n",
              "    .dataframe tbody tr th {\n",
              "        vertical-align: top;\n",
              "    }\n",
              "\n",
              "    .dataframe thead th {\n",
              "        text-align: right;\n",
              "    }\n",
              "</style>\n",
              "<table border=\"1\" class=\"dataframe\">\n",
              "  <thead>\n",
              "    <tr style=\"text-align: right;\">\n",
              "      <th></th>\n",
              "      <th>gender</th>\n",
              "      <th>friend_count</th>\n",
              "    </tr>\n",
              "  </thead>\n",
              "  <tbody>\n",
              "    <tr>\n",
              "      <th>0</th>\n",
              "      <td>female</td>\n",
              "      <td>9740258</td>\n",
              "    </tr>\n",
              "    <tr>\n",
              "      <th>1</th>\n",
              "      <td>male</td>\n",
              "      <td>9699059</td>\n",
              "    </tr>\n",
              "  </tbody>\n",
              "</table>\n",
              "</div>"
            ],
            "text/plain": [
              "   gender  friend_count\n",
              "0  female       9740258\n",
              "1    male       9699059"
            ]
          },
          "metadata": {},
          "execution_count": 147
        }
      ]
    },
    {
      "cell_type": "markdown",
      "metadata": {
        "id": "xNtlNvyuBjS-"
      },
      "source": [
        "### **Female users has more friends compared to male users**."
      ]
    },
    {
      "cell_type": "code",
      "metadata": {
        "colab": {
          "base_uri": "https://localhost:8080/",
          "height": 110
        },
        "id": "IsvGlTRduthp",
        "outputId": "2fe68758-f806-41b9-a976-3549fdaf453b"
      },
      "source": [
        "data.groupby(\"gender\").sum()[\"friendships_initiated\"].reset_index()"
      ],
      "execution_count": 148,
      "outputs": [
        {
          "output_type": "execute_result",
          "data": {
            "text/html": [
              "<div>\n",
              "<style scoped>\n",
              "    .dataframe tbody tr th:only-of-type {\n",
              "        vertical-align: middle;\n",
              "    }\n",
              "\n",
              "    .dataframe tbody tr th {\n",
              "        vertical-align: top;\n",
              "    }\n",
              "\n",
              "    .dataframe thead th {\n",
              "        text-align: right;\n",
              "    }\n",
              "</style>\n",
              "<table border=\"1\" class=\"dataframe\">\n",
              "  <thead>\n",
              "    <tr style=\"text-align: right;\">\n",
              "      <th></th>\n",
              "      <th>gender</th>\n",
              "      <th>friendships_initiated</th>\n",
              "    </tr>\n",
              "  </thead>\n",
              "  <tbody>\n",
              "    <tr>\n",
              "      <th>0</th>\n",
              "      <td>female</td>\n",
              "      <td>4584894</td>\n",
              "    </tr>\n",
              "    <tr>\n",
              "      <th>1</th>\n",
              "      <td>male</td>\n",
              "      <td>6053223</td>\n",
              "    </tr>\n",
              "  </tbody>\n",
              "</table>\n",
              "</div>"
            ],
            "text/plain": [
              "   gender  friendships_initiated\n",
              "0  female                4584894\n",
              "1    male                6053223"
            ]
          },
          "metadata": {},
          "execution_count": 148
        }
      ]
    },
    {
      "cell_type": "markdown",
      "metadata": {
        "id": "496feG6qBzDv"
      },
      "source": [
        "### **Male users initiated more friendships than female**."
      ]
    },
    {
      "cell_type": "markdown",
      "metadata": {
        "id": "HCldTekSE3k4"
      },
      "source": [
        "### How many users have no friends?"
      ]
    },
    {
      "cell_type": "markdown",
      "metadata": {
        "id": "963FJU89CDgN"
      },
      "source": [
        "### With respect to gender i have seperated the users who have no friends."
      ]
    },
    {
      "cell_type": "code",
      "metadata": {
        "id": "ZfkMV8NkvZCs"
      },
      "source": [
        "x=(data[data.gender==\"male\"].friend_count==0).sum()"
      ],
      "execution_count": 149,
      "outputs": []
    },
    {
      "cell_type": "code",
      "metadata": {
        "id": "mFnnZ1YBzIiR"
      },
      "source": [
        "y=(data[data.gender==\"female\"].friend_count==0).sum()"
      ],
      "execution_count": 150,
      "outputs": []
    },
    {
      "cell_type": "code",
      "metadata": {
        "colab": {
          "base_uri": "https://localhost:8080/"
        },
        "id": "u8BraUnBCYd3",
        "outputId": "62a624b6-dee1-47ab-d8d0-be3bd7b8bc58"
      },
      "source": [
        "users_with_no_friends=x+y\n",
        "users_with_no_friends"
      ],
      "execution_count": 151,
      "outputs": [
        {
          "output_type": "execute_result",
          "data": {
            "text/plain": [
              "1962"
            ]
          },
          "metadata": {},
          "execution_count": 151
        }
      ]
    },
    {
      "cell_type": "markdown",
      "metadata": {
        "id": "NtF6D-NvCrDE"
      },
      "source": [
        "### **Total of 1962 users have no friends**."
      ]
    },
    {
      "cell_type": "markdown",
      "metadata": {
        "id": "xz6UIjNIDvs7"
      },
      "source": [
        "### Users who do not like any posts?"
      ]
    },
    {
      "cell_type": "code",
      "metadata": {
        "colab": {
          "base_uri": "https://localhost:8080/"
        },
        "id": "3iUBxlXyy3mK",
        "outputId": "cd570aea-feb6-46fe-a0a5-3a62ffca14a0"
      },
      "source": [
        "(data[data.gender==\"male\"].likes==0).sum()"
      ],
      "execution_count": 152,
      "outputs": [
        {
          "output_type": "execute_result",
          "data": {
            "text/plain": [
              "16719"
            ]
          },
          "metadata": {},
          "execution_count": 152
        }
      ]
    },
    {
      "cell_type": "code",
      "metadata": {
        "colab": {
          "base_uri": "https://localhost:8080/"
        },
        "id": "29-hR_8Lzinx",
        "outputId": "162b4ec6-c7cb-4c09-9259-12af7ae6d968"
      },
      "source": [
        "(data[data.gender==\"female\"].likes==0).sum()"
      ],
      "execution_count": 153,
      "outputs": [
        {
          "output_type": "execute_result",
          "data": {
            "text/plain": [
              "5589"
            ]
          },
          "metadata": {},
          "execution_count": 153
        }
      ]
    },
    {
      "cell_type": "markdown",
      "metadata": {
        "id": "KxISykrSESk2"
      },
      "source": [
        "### **22,308 users do not like any posts**."
      ]
    },
    {
      "cell_type": "markdown",
      "metadata": {
        "id": "kRp3wmgGEfvy"
      },
      "source": [
        "### How many users did not receive any likes?\n"
      ]
    },
    {
      "cell_type": "code",
      "metadata": {
        "colab": {
          "base_uri": "https://localhost:8080/"
        },
        "id": "DPi49i1R0Mzc",
        "outputId": "3ab348e5-960c-456c-d6eb-ffa5c141b7d1"
      },
      "source": [
        "(data[data.gender==\"male\"].likes_received==0).sum()"
      ],
      "execution_count": 154,
      "outputs": [
        {
          "output_type": "execute_result",
          "data": {
            "text/plain": [
              "18188"
            ]
          },
          "metadata": {},
          "execution_count": 154
        }
      ]
    },
    {
      "cell_type": "code",
      "metadata": {
        "colab": {
          "base_uri": "https://localhost:8080/"
        },
        "id": "Ptjl3XXf0s0x",
        "outputId": "ec7c22fe-7a22-424e-88c8-64406ba13843"
      },
      "source": [
        "(data[data.gender==\"female\"].likes_received==0).sum()"
      ],
      "execution_count": 155,
      "outputs": [
        {
          "output_type": "execute_result",
          "data": {
            "text/plain": [
              "6240"
            ]
          },
          "metadata": {},
          "execution_count": 155
        }
      ]
    },
    {
      "cell_type": "markdown",
      "metadata": {
        "id": "C-njURDQEqy1"
      },
      "source": [
        "### **24,428 users did not receive any likes**."
      ]
    },
    {
      "cell_type": "markdown",
      "metadata": {
        "id": "6oBXyJs5_fAW"
      },
      "source": [
        "### avg number of post liked by the user based on gender."
      ]
    },
    {
      "cell_type": "code",
      "metadata": {
        "colab": {
          "base_uri": "https://localhost:8080/"
        },
        "id": "P7Sbt-Qk1Qkj",
        "outputId": "224b6a84-7009-426b-d089-7fef7948838e"
      },
      "source": [
        "round((data[data.gender==\"male\"].sum()[\"mobile_likes\"])/len(data[data.gender==\"male\"]))"
      ],
      "execution_count": 156,
      "outputs": [
        {
          "output_type": "execute_result",
          "data": {
            "text/plain": [
              "60"
            ]
          },
          "metadata": {},
          "execution_count": 156
        }
      ]
    },
    {
      "cell_type": "code",
      "metadata": {
        "colab": {
          "base_uri": "https://localhost:8080/"
        },
        "id": "QwTRWi3y15Sy",
        "outputId": "3fb057b9-43e7-40d2-a944-f665f763a6e0"
      },
      "source": [
        "round((data[data.gender==\"female\"].sum()[\"www_likes\"])/len(data[data.gender==\"female\"]))"
      ],
      "execution_count": 157,
      "outputs": [
        {
          "output_type": "execute_result",
          "data": {
            "text/plain": [
              "87"
            ]
          },
          "metadata": {},
          "execution_count": 157
        }
      ]
    },
    {
      "cell_type": "markdown",
      "metadata": {
        "id": "hl7tgJnD_DEO"
      },
      "source": [
        "### avg number of likes received by users based on gender.\n"
      ]
    },
    {
      "cell_type": "code",
      "metadata": {
        "colab": {
          "base_uri": "https://localhost:8080/"
        },
        "id": "VXX3bb4B_LI1",
        "outputId": "ab66eac2-61ff-46ec-cc15-9b74ac06aa23"
      },
      "source": [
        "round((data[data.gender==\"male\"].sum()[\"mobile_likes_received\"])/len(data[data.gender==\"male\"]))"
      ],
      "execution_count": 158,
      "outputs": [
        {
          "output_type": "execute_result",
          "data": {
            "text/plain": [
              "41"
            ]
          },
          "metadata": {},
          "execution_count": 158
        }
      ]
    },
    {
      "cell_type": "code",
      "metadata": {
        "colab": {
          "base_uri": "https://localhost:8080/"
        },
        "id": "eCOWGlXD_Sw-",
        "outputId": "c411fd98-6008-43f7-bc14-b6db642a43d1"
      },
      "source": [
        "round((data[data.gender==\"female\"].sum()[\"www_likes_received\"])/len(data[data.gender==\"female\"]))"
      ],
      "execution_count": 159,
      "outputs": [
        {
          "output_type": "execute_result",
          "data": {
            "text/plain": [
              "104"
            ]
          },
          "metadata": {},
          "execution_count": 159
        }
      ]
    }
  ]
}