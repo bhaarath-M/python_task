{
 "cells": [
  {
   "cell_type": "code",
   "execution_count": 14,
   "metadata": {},
   "outputs": [
    {
     "name": "stdout",
     "output_type": "stream",
     "text": [
      "enter the value:500\n",
      "enter the value:500\n",
      "press 1 for add\n",
      "press 2 for sub\n",
      "press 3 for multiply\n",
      "press 4 for divison\n",
      "select any number from 1 to 4:1\n",
      "1000\n"
     ]
    }
   ],
   "source": [
    "num1=int(input(\"enter the value:\"))\n",
    "num2=int(input(\"enter the value:\"))\n",
    "print(\"press 1 for add\")\n",
    "print(\"press 2 for sub\")\n",
    "print(\"press 3 for multiply\")\n",
    "print(\"press 4 for divison\")\n",
    "\n",
    "c=int(input(\"select any number from 1 to 4:\"))\n",
    "def add(num1,num2):\n",
    "    z=num1+num2\n",
    "    print(z) \n",
    "def sub(num1,num2):\n",
    "    z=num1-num2\n",
    "    print(z) \n",
    "def multiply(num1,num2):\n",
    "    z=num1*num2\n",
    "    print(z) \n",
    "def division(num1,num2):\n",
    "    z=num1//num2\n",
    "    print(z) \n",
    "if(c<=3):\n",
    "    if(c==1):\n",
    "        add(num1,num2)\n",
    "    elif(c==2):\n",
    "        sub(num1,num2)\n",
    "    elif(c==3):\n",
    "        multiply(num1,num2)\n",
    "else:\n",
    "    division(num1,num2)\n",
    "\n",
    "\n",
    "    "
   ]
  },
  {
   "cell_type": "code",
   "execution_count": 17,
   "metadata": {},
   "outputs": [],
   "source": [
    "def fun1(x,y):\n",
    "    z=x+y\n",
    "    return z\n",
    "    print(z) #return keyword ends the execution of a function and the statements below the retrun keyword does not gets executed"
   ]
  },
  {
   "cell_type": "code",
   "execution_count": 18,
   "metadata": {},
   "outputs": [
    {
     "data": {
      "text/plain": [
       "400"
      ]
     },
     "execution_count": 18,
     "metadata": {},
     "output_type": "execute_result"
    }
   ],
   "source": [
    "fun1(200,200)"
   ]
  },
  {
   "cell_type": "code",
   "execution_count": null,
   "metadata": {},
   "outputs": [],
   "source": []
  }
 ],
 "metadata": {
  "kernelspec": {
   "display_name": "Python 3",
   "language": "python",
   "name": "python3"
  },
  "language_info": {
   "codemirror_mode": {
    "name": "ipython",
    "version": 3
   },
   "file_extension": ".py",
   "mimetype": "text/x-python",
   "name": "python",
   "nbconvert_exporter": "python",
   "pygments_lexer": "ipython3",
   "version": "3.8.5"
  }
 },
 "nbformat": 4,
 "nbformat_minor": 4
}
