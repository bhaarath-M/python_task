{
  "nbformat": 4,
  "nbformat_minor": 0,
  "metadata": {
    "colab": {
      "name": "Untitled23.ipynb",
      "provenance": [],
      "collapsed_sections": [],
      "authorship_tag": "ABX9TyPm75I0y8Me1TXp+58syiFI",
      "include_colab_link": true
    },
    "kernelspec": {
      "name": "python3",
      "display_name": "Python 3"
    },
    "language_info": {
      "name": "python"
    }
  },
  "cells": [
    {
      "cell_type": "markdown",
      "metadata": {
        "id": "view-in-github",
        "colab_type": "text"
      },
      "source": [
        "<a href=\"https://colab.research.google.com/github/bhaarath-M/python_task/blob/main/forbes%20list.ipynb\" target=\"_parent\"><img src=\"https://colab.research.google.com/assets/colab-badge.svg\" alt=\"Open In Colab\"/></a>"
      ]
    },
    {
      "cell_type": "code",
      "metadata": {
        "id": "QCot4JaT_4h8"
      },
      "source": [
        "import numpy as np\n",
        "import pandas as pd\n",
        "import seaborn as sns\n",
        "import matplotlib.pyplot as plt\n",
        "%matplotlib inline\n"
      ],
      "execution_count": 3,
      "outputs": []
    },
    {
      "cell_type": "code",
      "metadata": {
        "colab": {
          "base_uri": "https://localhost:8080/",
          "height": 389
        },
        "id": "EPIznaa5AIfo",
        "outputId": "c33975fe-2855-48da-d6f7-ab000bcb1c75"
      },
      "source": [
        "df=pd.read_csv(\"/content/forbes_billionaires.csv\")\n",
        "df.head(7)"
      ],
      "execution_count": 4,
      "outputs": [
        {
          "output_type": "execute_result",
          "data": {
            "text/html": [
              "<div>\n",
              "<style scoped>\n",
              "    .dataframe tbody tr th:only-of-type {\n",
              "        vertical-align: middle;\n",
              "    }\n",
              "\n",
              "    .dataframe tbody tr th {\n",
              "        vertical-align: top;\n",
              "    }\n",
              "\n",
              "    .dataframe thead th {\n",
              "        text-align: right;\n",
              "    }\n",
              "</style>\n",
              "<table border=\"1\" class=\"dataframe\">\n",
              "  <thead>\n",
              "    <tr style=\"text-align: right;\">\n",
              "      <th></th>\n",
              "      <th>Name</th>\n",
              "      <th>NetWorth</th>\n",
              "      <th>Country</th>\n",
              "      <th>Source</th>\n",
              "      <th>Rank</th>\n",
              "      <th>Age</th>\n",
              "      <th>Residence</th>\n",
              "      <th>Citizenship</th>\n",
              "      <th>Status</th>\n",
              "      <th>Children</th>\n",
              "      <th>Education</th>\n",
              "      <th>Self_made</th>\n",
              "    </tr>\n",
              "  </thead>\n",
              "  <tbody>\n",
              "    <tr>\n",
              "      <th>0</th>\n",
              "      <td>Jeff Bezos</td>\n",
              "      <td>177.0</td>\n",
              "      <td>United States</td>\n",
              "      <td>Amazon</td>\n",
              "      <td>1</td>\n",
              "      <td>57.0</td>\n",
              "      <td>Seattle, Washington</td>\n",
              "      <td>United States</td>\n",
              "      <td>In Relationship</td>\n",
              "      <td>4.0</td>\n",
              "      <td>Bachelor of Arts/Science, Princeton University</td>\n",
              "      <td>True</td>\n",
              "    </tr>\n",
              "    <tr>\n",
              "      <th>1</th>\n",
              "      <td>Elon Musk</td>\n",
              "      <td>151.0</td>\n",
              "      <td>United States</td>\n",
              "      <td>Tesla, SpaceX</td>\n",
              "      <td>2</td>\n",
              "      <td>49.0</td>\n",
              "      <td>Austin, Texas</td>\n",
              "      <td>United States</td>\n",
              "      <td>In Relationship</td>\n",
              "      <td>7.0</td>\n",
              "      <td>Bachelor of Arts/Science, University of Pennsy...</td>\n",
              "      <td>True</td>\n",
              "    </tr>\n",
              "    <tr>\n",
              "      <th>2</th>\n",
              "      <td>Bernard Arnault &amp; family</td>\n",
              "      <td>150.0</td>\n",
              "      <td>France</td>\n",
              "      <td>LVMH</td>\n",
              "      <td>3</td>\n",
              "      <td>72.0</td>\n",
              "      <td>Paris, France</td>\n",
              "      <td>France</td>\n",
              "      <td>Married</td>\n",
              "      <td>5.0</td>\n",
              "      <td>Bachelor of Arts/Science, Ecole Polytechnique ...</td>\n",
              "      <td>False</td>\n",
              "    </tr>\n",
              "    <tr>\n",
              "      <th>3</th>\n",
              "      <td>Bill Gates</td>\n",
              "      <td>124.0</td>\n",
              "      <td>United States</td>\n",
              "      <td>Microsoft</td>\n",
              "      <td>4</td>\n",
              "      <td>65.0</td>\n",
              "      <td>Medina, Washington</td>\n",
              "      <td>United States</td>\n",
              "      <td>Divorced</td>\n",
              "      <td>3.0</td>\n",
              "      <td>Drop Out, Harvard University</td>\n",
              "      <td>True</td>\n",
              "    </tr>\n",
              "    <tr>\n",
              "      <th>4</th>\n",
              "      <td>Mark Zuckerberg</td>\n",
              "      <td>97.0</td>\n",
              "      <td>United States</td>\n",
              "      <td>Facebook</td>\n",
              "      <td>5</td>\n",
              "      <td>36.0</td>\n",
              "      <td>Palo Alto, California</td>\n",
              "      <td>United States</td>\n",
              "      <td>Married</td>\n",
              "      <td>2.0</td>\n",
              "      <td>Drop Out, Harvard University</td>\n",
              "      <td>True</td>\n",
              "    </tr>\n",
              "    <tr>\n",
              "      <th>5</th>\n",
              "      <td>Warren Buffett</td>\n",
              "      <td>96.0</td>\n",
              "      <td>United States</td>\n",
              "      <td>Berkshire Hathaway</td>\n",
              "      <td>6</td>\n",
              "      <td>90.0</td>\n",
              "      <td>Omaha, Nebraska</td>\n",
              "      <td>United States</td>\n",
              "      <td>Widowed, Remarried</td>\n",
              "      <td>3.0</td>\n",
              "      <td>Master of Science, Columbia University; Bachel...</td>\n",
              "      <td>True</td>\n",
              "    </tr>\n",
              "    <tr>\n",
              "      <th>6</th>\n",
              "      <td>Larry Ellison</td>\n",
              "      <td>93.0</td>\n",
              "      <td>United States</td>\n",
              "      <td>software</td>\n",
              "      <td>7</td>\n",
              "      <td>76.0</td>\n",
              "      <td>Lanai, Hawaii</td>\n",
              "      <td>United States</td>\n",
              "      <td>In Relationship</td>\n",
              "      <td>4.0</td>\n",
              "      <td>Drop Out, University of Chicago; Drop Out, Uni...</td>\n",
              "      <td>True</td>\n",
              "    </tr>\n",
              "  </tbody>\n",
              "</table>\n",
              "</div>"
            ],
            "text/plain": [
              "                       Name  ...  Self_made\n",
              "0                Jeff Bezos  ...       True\n",
              "1                 Elon Musk  ...       True\n",
              "2  Bernard Arnault & family  ...      False\n",
              "3                Bill Gates  ...       True\n",
              "4           Mark Zuckerberg  ...       True\n",
              "5            Warren Buffett  ...       True\n",
              "6             Larry Ellison  ...       True\n",
              "\n",
              "[7 rows x 12 columns]"
            ]
          },
          "metadata": {
            "tags": []
          },
          "execution_count": 4
        }
      ]
    },
    {
      "cell_type": "code",
      "metadata": {
        "colab": {
          "base_uri": "https://localhost:8080/"
        },
        "id": "Ze5ZakCdAZkp",
        "outputId": "c12ce38b-2ab2-411c-e2c5-78f226de49a8"
      },
      "source": [
        "df.info(verbose=True)"
      ],
      "execution_count": 5,
      "outputs": [
        {
          "output_type": "stream",
          "text": [
            "<class 'pandas.core.frame.DataFrame'>\n",
            "RangeIndex: 2755 entries, 0 to 2754\n",
            "Data columns (total 12 columns):\n",
            " #   Column       Non-Null Count  Dtype  \n",
            "---  ------       --------------  -----  \n",
            " 0   Name         2755 non-null   object \n",
            " 1   NetWorth     2755 non-null   float64\n",
            " 2   Country      2755 non-null   object \n",
            " 3   Source       2755 non-null   object \n",
            " 4   Rank         2755 non-null   int64  \n",
            " 5   Age          2630 non-null   float64\n",
            " 6   Residence    2715 non-null   object \n",
            " 7   Citizenship  2739 non-null   object \n",
            " 8   Status       2090 non-null   object \n",
            " 9   Children     1552 non-null   float64\n",
            " 10  Education    1409 non-null   object \n",
            " 11  Self_made    2737 non-null   object \n",
            "dtypes: float64(3), int64(1), object(8)\n",
            "memory usage: 258.4+ KB\n"
          ],
          "name": "stdout"
        }
      ]
    },
    {
      "cell_type": "code",
      "metadata": {
        "id": "2EgISSseAnDt"
      },
      "source": [
        "unnecessary_col=[\"Residence\",\"Citizenship\",\"Status\",\"Children\",\"Education\"]\n",
        "df=df.drop(unnecessary_col,axis=1)"
      ],
      "execution_count": 7,
      "outputs": []
    },
    {
      "cell_type": "code",
      "metadata": {
        "colab": {
          "base_uri": "https://localhost:8080/",
          "height": 254
        },
        "id": "42hEr41UCskx",
        "outputId": "1a3d9d93-6de0-43b5-ac25-e7e83d435438"
      },
      "source": [
        "df.head(7)"
      ],
      "execution_count": 8,
      "outputs": [
        {
          "output_type": "execute_result",
          "data": {
            "text/html": [
              "<div>\n",
              "<style scoped>\n",
              "    .dataframe tbody tr th:only-of-type {\n",
              "        vertical-align: middle;\n",
              "    }\n",
              "\n",
              "    .dataframe tbody tr th {\n",
              "        vertical-align: top;\n",
              "    }\n",
              "\n",
              "    .dataframe thead th {\n",
              "        text-align: right;\n",
              "    }\n",
              "</style>\n",
              "<table border=\"1\" class=\"dataframe\">\n",
              "  <thead>\n",
              "    <tr style=\"text-align: right;\">\n",
              "      <th></th>\n",
              "      <th>Name</th>\n",
              "      <th>NetWorth</th>\n",
              "      <th>Country</th>\n",
              "      <th>Source</th>\n",
              "      <th>Rank</th>\n",
              "      <th>Age</th>\n",
              "      <th>Self_made</th>\n",
              "    </tr>\n",
              "  </thead>\n",
              "  <tbody>\n",
              "    <tr>\n",
              "      <th>0</th>\n",
              "      <td>Jeff Bezos</td>\n",
              "      <td>177.0</td>\n",
              "      <td>United States</td>\n",
              "      <td>Amazon</td>\n",
              "      <td>1</td>\n",
              "      <td>57.0</td>\n",
              "      <td>True</td>\n",
              "    </tr>\n",
              "    <tr>\n",
              "      <th>1</th>\n",
              "      <td>Elon Musk</td>\n",
              "      <td>151.0</td>\n",
              "      <td>United States</td>\n",
              "      <td>Tesla, SpaceX</td>\n",
              "      <td>2</td>\n",
              "      <td>49.0</td>\n",
              "      <td>True</td>\n",
              "    </tr>\n",
              "    <tr>\n",
              "      <th>2</th>\n",
              "      <td>Bernard Arnault &amp; family</td>\n",
              "      <td>150.0</td>\n",
              "      <td>France</td>\n",
              "      <td>LVMH</td>\n",
              "      <td>3</td>\n",
              "      <td>72.0</td>\n",
              "      <td>False</td>\n",
              "    </tr>\n",
              "    <tr>\n",
              "      <th>3</th>\n",
              "      <td>Bill Gates</td>\n",
              "      <td>124.0</td>\n",
              "      <td>United States</td>\n",
              "      <td>Microsoft</td>\n",
              "      <td>4</td>\n",
              "      <td>65.0</td>\n",
              "      <td>True</td>\n",
              "    </tr>\n",
              "    <tr>\n",
              "      <th>4</th>\n",
              "      <td>Mark Zuckerberg</td>\n",
              "      <td>97.0</td>\n",
              "      <td>United States</td>\n",
              "      <td>Facebook</td>\n",
              "      <td>5</td>\n",
              "      <td>36.0</td>\n",
              "      <td>True</td>\n",
              "    </tr>\n",
              "    <tr>\n",
              "      <th>5</th>\n",
              "      <td>Warren Buffett</td>\n",
              "      <td>96.0</td>\n",
              "      <td>United States</td>\n",
              "      <td>Berkshire Hathaway</td>\n",
              "      <td>6</td>\n",
              "      <td>90.0</td>\n",
              "      <td>True</td>\n",
              "    </tr>\n",
              "    <tr>\n",
              "      <th>6</th>\n",
              "      <td>Larry Ellison</td>\n",
              "      <td>93.0</td>\n",
              "      <td>United States</td>\n",
              "      <td>software</td>\n",
              "      <td>7</td>\n",
              "      <td>76.0</td>\n",
              "      <td>True</td>\n",
              "    </tr>\n",
              "  </tbody>\n",
              "</table>\n",
              "</div>"
            ],
            "text/plain": [
              "                       Name  NetWorth        Country  ... Rank   Age  Self_made\n",
              "0                Jeff Bezos     177.0  United States  ...    1  57.0       True\n",
              "1                 Elon Musk     151.0  United States  ...    2  49.0       True\n",
              "2  Bernard Arnault & family     150.0         France  ...    3  72.0      False\n",
              "3                Bill Gates     124.0  United States  ...    4  65.0       True\n",
              "4           Mark Zuckerberg      97.0  United States  ...    5  36.0       True\n",
              "5            Warren Buffett      96.0  United States  ...    6  90.0       True\n",
              "6             Larry Ellison      93.0  United States  ...    7  76.0       True\n",
              "\n",
              "[7 rows x 7 columns]"
            ]
          },
          "metadata": {
            "tags": []
          },
          "execution_count": 8
        }
      ]
    },
    {
      "cell_type": "code",
      "metadata": {
        "colab": {
          "base_uri": "https://localhost:8080/",
          "height": 343
        },
        "id": "RFOLqnulFABi",
        "outputId": "c36db4d1-e03e-4de6-a1f6-d4b8d4824e87"
      },
      "source": [
        "df.tail(10)"
      ],
      "execution_count": 22,
      "outputs": [
        {
          "output_type": "execute_result",
          "data": {
            "text/html": [
              "<div>\n",
              "<style scoped>\n",
              "    .dataframe tbody tr th:only-of-type {\n",
              "        vertical-align: middle;\n",
              "    }\n",
              "\n",
              "    .dataframe tbody tr th {\n",
              "        vertical-align: top;\n",
              "    }\n",
              "\n",
              "    .dataframe thead th {\n",
              "        text-align: right;\n",
              "    }\n",
              "</style>\n",
              "<table border=\"1\" class=\"dataframe\">\n",
              "  <thead>\n",
              "    <tr style=\"text-align: right;\">\n",
              "      <th></th>\n",
              "      <th>Name</th>\n",
              "      <th>NetWorth</th>\n",
              "      <th>Country</th>\n",
              "      <th>Source</th>\n",
              "      <th>Rank</th>\n",
              "      <th>Age</th>\n",
              "      <th>Self_made</th>\n",
              "    </tr>\n",
              "  </thead>\n",
              "  <tbody>\n",
              "    <tr>\n",
              "      <th>2745</th>\n",
              "      <td>Xu Jin</td>\n",
              "      <td>1.0</td>\n",
              "      <td>China</td>\n",
              "      <td>wine</td>\n",
              "      <td>2674</td>\n",
              "      <td>56.0</td>\n",
              "      <td>True</td>\n",
              "    </tr>\n",
              "    <tr>\n",
              "      <th>2746</th>\n",
              "      <td>Vadim Yakunin</td>\n",
              "      <td>1.0</td>\n",
              "      <td>Russia</td>\n",
              "      <td>pharmacy</td>\n",
              "      <td>2674</td>\n",
              "      <td>58.0</td>\n",
              "      <td>True</td>\n",
              "    </tr>\n",
              "    <tr>\n",
              "      <th>2747</th>\n",
              "      <td>Mark Haoyong Yang</td>\n",
              "      <td>1.0</td>\n",
              "      <td>China</td>\n",
              "      <td>e-commerce</td>\n",
              "      <td>2674</td>\n",
              "      <td>46.0</td>\n",
              "      <td>True</td>\n",
              "    </tr>\n",
              "    <tr>\n",
              "      <th>2748</th>\n",
              "      <td>Yao Hsiao Tung</td>\n",
              "      <td>1.0</td>\n",
              "      <td>Singapore</td>\n",
              "      <td>Manufacturing</td>\n",
              "      <td>2674</td>\n",
              "      <td>81.0</td>\n",
              "      <td>True</td>\n",
              "    </tr>\n",
              "    <tr>\n",
              "      <th>2749</th>\n",
              "      <td>Yu De-Chao</td>\n",
              "      <td>1.0</td>\n",
              "      <td>United States</td>\n",
              "      <td>pharmaceuticals</td>\n",
              "      <td>2674</td>\n",
              "      <td>57.0</td>\n",
              "      <td>True</td>\n",
              "    </tr>\n",
              "    <tr>\n",
              "      <th>2750</th>\n",
              "      <td>Daniel Yong Zhang</td>\n",
              "      <td>1.0</td>\n",
              "      <td>China</td>\n",
              "      <td>e-commerce</td>\n",
              "      <td>2674</td>\n",
              "      <td>49.0</td>\n",
              "      <td>True</td>\n",
              "    </tr>\n",
              "    <tr>\n",
              "      <th>2751</th>\n",
              "      <td>Zhang Yuqiang</td>\n",
              "      <td>1.0</td>\n",
              "      <td>China</td>\n",
              "      <td>Fiberglass</td>\n",
              "      <td>2674</td>\n",
              "      <td>65.0</td>\n",
              "      <td>True</td>\n",
              "    </tr>\n",
              "    <tr>\n",
              "      <th>2752</th>\n",
              "      <td>Zhao Meiguang</td>\n",
              "      <td>1.0</td>\n",
              "      <td>China</td>\n",
              "      <td>gold mining</td>\n",
              "      <td>2674</td>\n",
              "      <td>58.0</td>\n",
              "      <td>True</td>\n",
              "    </tr>\n",
              "    <tr>\n",
              "      <th>2753</th>\n",
              "      <td>Zhong Naixiong</td>\n",
              "      <td>1.0</td>\n",
              "      <td>China</td>\n",
              "      <td>conglomerate</td>\n",
              "      <td>2674</td>\n",
              "      <td>58.0</td>\n",
              "      <td>True</td>\n",
              "    </tr>\n",
              "    <tr>\n",
              "      <th>2754</th>\n",
              "      <td>Zhou Wei family</td>\n",
              "      <td>1.0</td>\n",
              "      <td>China</td>\n",
              "      <td>Software</td>\n",
              "      <td>2674</td>\n",
              "      <td>54.0</td>\n",
              "      <td>True</td>\n",
              "    </tr>\n",
              "  </tbody>\n",
              "</table>\n",
              "</div>"
            ],
            "text/plain": [
              "                   Name  NetWorth        Country  ...  Rank   Age  Self_made\n",
              "2745             Xu Jin       1.0          China  ...  2674  56.0       True\n",
              "2746      Vadim Yakunin       1.0         Russia  ...  2674  58.0       True\n",
              "2747  Mark Haoyong Yang       1.0          China  ...  2674  46.0       True\n",
              "2748     Yao Hsiao Tung       1.0      Singapore  ...  2674  81.0       True\n",
              "2749         Yu De-Chao       1.0  United States  ...  2674  57.0       True\n",
              "2750  Daniel Yong Zhang       1.0          China  ...  2674  49.0       True\n",
              "2751      Zhang Yuqiang       1.0          China  ...  2674  65.0       True\n",
              "2752      Zhao Meiguang       1.0          China  ...  2674  58.0       True\n",
              "2753     Zhong Naixiong       1.0          China  ...  2674  58.0       True\n",
              "2754    Zhou Wei family       1.0          China  ...  2674  54.0       True\n",
              "\n",
              "[10 rows x 7 columns]"
            ]
          },
          "metadata": {
            "tags": []
          },
          "execution_count": 22
        }
      ]
    },
    {
      "cell_type": "code",
      "metadata": {
        "colab": {
          "base_uri": "https://localhost:8080/",
          "height": 284
        },
        "id": "sH3Qke99CxiX",
        "outputId": "45793ba6-fb74-4696-8322-b28f755f6d52"
      },
      "source": [
        "df.describe()"
      ],
      "execution_count": 9,
      "outputs": [
        {
          "output_type": "execute_result",
          "data": {
            "text/html": [
              "<div>\n",
              "<style scoped>\n",
              "    .dataframe tbody tr th:only-of-type {\n",
              "        vertical-align: middle;\n",
              "    }\n",
              "\n",
              "    .dataframe tbody tr th {\n",
              "        vertical-align: top;\n",
              "    }\n",
              "\n",
              "    .dataframe thead th {\n",
              "        text-align: right;\n",
              "    }\n",
              "</style>\n",
              "<table border=\"1\" class=\"dataframe\">\n",
              "  <thead>\n",
              "    <tr style=\"text-align: right;\">\n",
              "      <th></th>\n",
              "      <th>NetWorth</th>\n",
              "      <th>Rank</th>\n",
              "      <th>Age</th>\n",
              "    </tr>\n",
              "  </thead>\n",
              "  <tbody>\n",
              "    <tr>\n",
              "      <th>count</th>\n",
              "      <td>2755.000000</td>\n",
              "      <td>2755.000000</td>\n",
              "      <td>2630.00000</td>\n",
              "    </tr>\n",
              "    <tr>\n",
              "      <th>mean</th>\n",
              "      <td>4.749220</td>\n",
              "      <td>1345.663521</td>\n",
              "      <td>63.26730</td>\n",
              "    </tr>\n",
              "    <tr>\n",
              "      <th>std</th>\n",
              "      <td>9.615358</td>\n",
              "      <td>772.669811</td>\n",
              "      <td>13.47916</td>\n",
              "    </tr>\n",
              "    <tr>\n",
              "      <th>min</th>\n",
              "      <td>1.000000</td>\n",
              "      <td>1.000000</td>\n",
              "      <td>18.00000</td>\n",
              "    </tr>\n",
              "    <tr>\n",
              "      <th>25%</th>\n",
              "      <td>1.500000</td>\n",
              "      <td>680.000000</td>\n",
              "      <td>54.00000</td>\n",
              "    </tr>\n",
              "    <tr>\n",
              "      <th>50%</th>\n",
              "      <td>2.300000</td>\n",
              "      <td>1362.000000</td>\n",
              "      <td>63.00000</td>\n",
              "    </tr>\n",
              "    <tr>\n",
              "      <th>75%</th>\n",
              "      <td>4.200000</td>\n",
              "      <td>2035.000000</td>\n",
              "      <td>73.00000</td>\n",
              "    </tr>\n",
              "    <tr>\n",
              "      <th>max</th>\n",
              "      <td>177.000000</td>\n",
              "      <td>2674.000000</td>\n",
              "      <td>99.00000</td>\n",
              "    </tr>\n",
              "  </tbody>\n",
              "</table>\n",
              "</div>"
            ],
            "text/plain": [
              "          NetWorth         Rank         Age\n",
              "count  2755.000000  2755.000000  2630.00000\n",
              "mean      4.749220  1345.663521    63.26730\n",
              "std       9.615358   772.669811    13.47916\n",
              "min       1.000000     1.000000    18.00000\n",
              "25%       1.500000   680.000000    54.00000\n",
              "50%       2.300000  1362.000000    63.00000\n",
              "75%       4.200000  2035.000000    73.00000\n",
              "max     177.000000  2674.000000    99.00000"
            ]
          },
          "metadata": {
            "tags": []
          },
          "execution_count": 9
        }
      ]
    },
    {
      "cell_type": "code",
      "metadata": {
        "colab": {
          "base_uri": "https://localhost:8080/"
        },
        "id": "CyKCTIo0C2TL",
        "outputId": "67cb150f-2701-49f6-b0a0-64feb8621b02"
      },
      "source": [
        "df.Age.isnull().sum()"
      ],
      "execution_count": 12,
      "outputs": [
        {
          "output_type": "execute_result",
          "data": {
            "text/plain": [
              "125"
            ]
          },
          "metadata": {
            "tags": []
          },
          "execution_count": 12
        }
      ]
    },
    {
      "cell_type": "code",
      "metadata": {
        "colab": {
          "base_uri": "https://localhost:8080/"
        },
        "id": "r9WsFthRC7xd",
        "outputId": "095dec58-01a1-458d-b822-0e10d4caf268"
      },
      "source": [
        "df.isnull().sum()"
      ],
      "execution_count": 14,
      "outputs": [
        {
          "output_type": "execute_result",
          "data": {
            "text/plain": [
              "Name           0\n",
              "NetWorth       0\n",
              "Country        0\n",
              "Source         0\n",
              "Rank           0\n",
              "Age          125\n",
              "Self_made     18\n",
              "dtype: int64"
            ]
          },
          "metadata": {
            "tags": []
          },
          "execution_count": 14
        }
      ]
    },
    {
      "cell_type": "code",
      "metadata": {
        "id": "uDVdrQQnDEHg"
      },
      "source": [
        "col=[\"Age\"]\n",
        "for i in col:\n",
        "  mean=df[i].mean()\n",
        "  df[i]=df[i].replace(np.NAN,mean)"
      ],
      "execution_count": 18,
      "outputs": []
    },
    {
      "cell_type": "code",
      "metadata": {
        "colab": {
          "base_uri": "https://localhost:8080/"
        },
        "id": "RioY-41YDYI8",
        "outputId": "7917a1b6-06a3-4c8c-91b6-0ec21953e567"
      },
      "source": [
        "df.isnull().sum()"
      ],
      "execution_count": 19,
      "outputs": [
        {
          "output_type": "execute_result",
          "data": {
            "text/plain": [
              "Name          0\n",
              "NetWorth      0\n",
              "Country       0\n",
              "Source        0\n",
              "Rank          0\n",
              "Age           0\n",
              "Self_made    18\n",
              "dtype: int64"
            ]
          },
          "metadata": {
            "tags": []
          },
          "execution_count": 19
        }
      ]
    },
    {
      "cell_type": "code",
      "metadata": {
        "colab": {
          "base_uri": "https://localhost:8080/",
          "height": 354
        },
        "id": "zpVwRWd1D1qA",
        "outputId": "6ff79b43-d123-484b-8def-99850d58a6d5"
      },
      "source": [
        "col=[\"Self_made\"]\n",
        "for i in col:\n",
        "  mode=df[i].mode()\n",
        "  df[i]=df[i].replace(np.NAN,0)\n",
        "  df[i]=df[i].replace(0,mode)\n",
        "df.isnull().sum()"
      ],
      "execution_count": 23,
      "outputs": [
        {
          "output_type": "error",
          "ename": "ValueError",
          "evalue": "ignored",
          "traceback": [
            "\u001b[0;31m---------------------------------------------------------------------------\u001b[0m",
            "\u001b[0;31mValueError\u001b[0m                                Traceback (most recent call last)",
            "\u001b[0;32m<ipython-input-23-1b63ce01cfe0>\u001b[0m in \u001b[0;36m<module>\u001b[0;34m()\u001b[0m\n\u001b[1;32m      3\u001b[0m   \u001b[0mmode\u001b[0m\u001b[0;34m=\u001b[0m\u001b[0mdf\u001b[0m\u001b[0;34m[\u001b[0m\u001b[0mi\u001b[0m\u001b[0;34m]\u001b[0m\u001b[0;34m.\u001b[0m\u001b[0mmode\u001b[0m\u001b[0;34m(\u001b[0m\u001b[0;34m)\u001b[0m\u001b[0;34m\u001b[0m\u001b[0;34m\u001b[0m\u001b[0m\n\u001b[1;32m      4\u001b[0m   \u001b[0mdf\u001b[0m\u001b[0;34m[\u001b[0m\u001b[0mi\u001b[0m\u001b[0;34m]\u001b[0m\u001b[0;34m=\u001b[0m\u001b[0mdf\u001b[0m\u001b[0;34m[\u001b[0m\u001b[0mi\u001b[0m\u001b[0;34m]\u001b[0m\u001b[0;34m.\u001b[0m\u001b[0mreplace\u001b[0m\u001b[0;34m(\u001b[0m\u001b[0mnp\u001b[0m\u001b[0;34m.\u001b[0m\u001b[0mNAN\u001b[0m\u001b[0;34m,\u001b[0m\u001b[0;36m0\u001b[0m\u001b[0;34m)\u001b[0m\u001b[0;34m\u001b[0m\u001b[0;34m\u001b[0m\u001b[0m\n\u001b[0;32m----> 5\u001b[0;31m   \u001b[0mdf\u001b[0m\u001b[0;34m[\u001b[0m\u001b[0mi\u001b[0m\u001b[0;34m]\u001b[0m\u001b[0;34m=\u001b[0m\u001b[0mdf\u001b[0m\u001b[0;34m[\u001b[0m\u001b[0mi\u001b[0m\u001b[0;34m]\u001b[0m\u001b[0;34m.\u001b[0m\u001b[0mreplace\u001b[0m\u001b[0;34m(\u001b[0m\u001b[0;36m0\u001b[0m\u001b[0;34m,\u001b[0m\u001b[0mmode\u001b[0m\u001b[0;34m)\u001b[0m\u001b[0;34m\u001b[0m\u001b[0;34m\u001b[0m\u001b[0m\n\u001b[0m\u001b[1;32m      6\u001b[0m \u001b[0mdf\u001b[0m\u001b[0;34m.\u001b[0m\u001b[0misnull\u001b[0m\u001b[0;34m(\u001b[0m\u001b[0;34m)\u001b[0m\u001b[0;34m.\u001b[0m\u001b[0msum\u001b[0m\u001b[0;34m(\u001b[0m\u001b[0;34m)\u001b[0m\u001b[0;34m\u001b[0m\u001b[0;34m\u001b[0m\u001b[0m\n",
            "\u001b[0;32m/usr/local/lib/python3.7/dist-packages/pandas/core/series.py\u001b[0m in \u001b[0;36mreplace\u001b[0;34m(self, to_replace, value, inplace, limit, regex, method)\u001b[0m\n\u001b[1;32m   4580\u001b[0m             \u001b[0mlimit\u001b[0m\u001b[0;34m=\u001b[0m\u001b[0mlimit\u001b[0m\u001b[0;34m,\u001b[0m\u001b[0;34m\u001b[0m\u001b[0;34m\u001b[0m\u001b[0m\n\u001b[1;32m   4581\u001b[0m             \u001b[0mregex\u001b[0m\u001b[0;34m=\u001b[0m\u001b[0mregex\u001b[0m\u001b[0;34m,\u001b[0m\u001b[0;34m\u001b[0m\u001b[0;34m\u001b[0m\u001b[0m\n\u001b[0;32m-> 4582\u001b[0;31m             \u001b[0mmethod\u001b[0m\u001b[0;34m=\u001b[0m\u001b[0mmethod\u001b[0m\u001b[0;34m,\u001b[0m\u001b[0;34m\u001b[0m\u001b[0;34m\u001b[0m\u001b[0m\n\u001b[0m\u001b[1;32m   4583\u001b[0m         )\n\u001b[1;32m   4584\u001b[0m \u001b[0;34m\u001b[0m\u001b[0m\n",
            "\u001b[0;32m/usr/local/lib/python3.7/dist-packages/pandas/core/generic.py\u001b[0m in \u001b[0;36mreplace\u001b[0;34m(self, to_replace, value, inplace, limit, regex, method)\u001b[0m\n\u001b[1;32m   6579\u001b[0m                     \u001b[0;32mif\u001b[0m \u001b[0mself\u001b[0m\u001b[0;34m.\u001b[0m\u001b[0mndim\u001b[0m \u001b[0;34m==\u001b[0m \u001b[0;36m1\u001b[0m\u001b[0;34m:\u001b[0m\u001b[0;34m\u001b[0m\u001b[0;34m\u001b[0m\u001b[0m\n\u001b[1;32m   6580\u001b[0m                         raise ValueError(\n\u001b[0;32m-> 6581\u001b[0;31m                             \u001b[0;34m\"Series.replace cannot use dict-value and \"\u001b[0m\u001b[0;34m\u001b[0m\u001b[0;34m\u001b[0m\u001b[0m\n\u001b[0m\u001b[1;32m   6582\u001b[0m                             \u001b[0;34m\"non-None to_replace\"\u001b[0m\u001b[0;34m\u001b[0m\u001b[0;34m\u001b[0m\u001b[0m\n\u001b[1;32m   6583\u001b[0m                         )\n",
            "\u001b[0;31mValueError\u001b[0m: Series.replace cannot use dict-value and non-None to_replace"
          ]
        }
      ]
    },
    {
      "cell_type": "code",
      "metadata": {
        "colab": {
          "base_uri": "https://localhost:8080/"
        },
        "id": "MlhXcXRfEPb3",
        "outputId": "b702cc5f-4e7e-4dff-9a3b-e9d7b2288438"
      },
      "source": [
        "df[\"Self_made\"].isnull().any()"
      ],
      "execution_count": 21,
      "outputs": [
        {
          "output_type": "execute_result",
          "data": {
            "text/plain": [
              "True"
            ]
          },
          "metadata": {
            "tags": []
          },
          "execution_count": 21
        }
      ]
    },
    {
      "cell_type": "code",
      "metadata": {
        "colab": {
          "base_uri": "https://localhost:8080/"
        },
        "id": "bGZsxxTQEosB",
        "outputId": "62256d16-3042-45a2-859e-8a248d358bca"
      },
      "source": [
        "mode=df[i].mode()\n",
        "mode"
      ],
      "execution_count": 24,
      "outputs": [
        {
          "output_type": "execute_result",
          "data": {
            "text/plain": [
              "0    True\n",
              "dtype: object"
            ]
          },
          "metadata": {
            "tags": []
          },
          "execution_count": 24
        }
      ]
    },
    {
      "cell_type": "code",
      "metadata": {
        "id": "xOF9TnD4FrFd"
      },
      "source": [
        "df[\"Self_made\"]=df[\"Self_made\"].fillna(df[\"Self_made\"].mode()[0])"
      ],
      "execution_count": 25,
      "outputs": []
    },
    {
      "cell_type": "code",
      "metadata": {
        "colab": {
          "base_uri": "https://localhost:8080/",
          "height": 254
        },
        "id": "njfjRVUlGdch",
        "outputId": "23e82d76-05f6-4870-d426-439995d8a599"
      },
      "source": [
        "df.head(7)"
      ],
      "execution_count": 26,
      "outputs": [
        {
          "output_type": "execute_result",
          "data": {
            "text/html": [
              "<div>\n",
              "<style scoped>\n",
              "    .dataframe tbody tr th:only-of-type {\n",
              "        vertical-align: middle;\n",
              "    }\n",
              "\n",
              "    .dataframe tbody tr th {\n",
              "        vertical-align: top;\n",
              "    }\n",
              "\n",
              "    .dataframe thead th {\n",
              "        text-align: right;\n",
              "    }\n",
              "</style>\n",
              "<table border=\"1\" class=\"dataframe\">\n",
              "  <thead>\n",
              "    <tr style=\"text-align: right;\">\n",
              "      <th></th>\n",
              "      <th>Name</th>\n",
              "      <th>NetWorth</th>\n",
              "      <th>Country</th>\n",
              "      <th>Source</th>\n",
              "      <th>Rank</th>\n",
              "      <th>Age</th>\n",
              "      <th>Self_made</th>\n",
              "    </tr>\n",
              "  </thead>\n",
              "  <tbody>\n",
              "    <tr>\n",
              "      <th>0</th>\n",
              "      <td>Jeff Bezos</td>\n",
              "      <td>177.0</td>\n",
              "      <td>United States</td>\n",
              "      <td>Amazon</td>\n",
              "      <td>1</td>\n",
              "      <td>57.0</td>\n",
              "      <td>True</td>\n",
              "    </tr>\n",
              "    <tr>\n",
              "      <th>1</th>\n",
              "      <td>Elon Musk</td>\n",
              "      <td>151.0</td>\n",
              "      <td>United States</td>\n",
              "      <td>Tesla, SpaceX</td>\n",
              "      <td>2</td>\n",
              "      <td>49.0</td>\n",
              "      <td>True</td>\n",
              "    </tr>\n",
              "    <tr>\n",
              "      <th>2</th>\n",
              "      <td>Bernard Arnault &amp; family</td>\n",
              "      <td>150.0</td>\n",
              "      <td>France</td>\n",
              "      <td>LVMH</td>\n",
              "      <td>3</td>\n",
              "      <td>72.0</td>\n",
              "      <td>False</td>\n",
              "    </tr>\n",
              "    <tr>\n",
              "      <th>3</th>\n",
              "      <td>Bill Gates</td>\n",
              "      <td>124.0</td>\n",
              "      <td>United States</td>\n",
              "      <td>Microsoft</td>\n",
              "      <td>4</td>\n",
              "      <td>65.0</td>\n",
              "      <td>True</td>\n",
              "    </tr>\n",
              "    <tr>\n",
              "      <th>4</th>\n",
              "      <td>Mark Zuckerberg</td>\n",
              "      <td>97.0</td>\n",
              "      <td>United States</td>\n",
              "      <td>Facebook</td>\n",
              "      <td>5</td>\n",
              "      <td>36.0</td>\n",
              "      <td>True</td>\n",
              "    </tr>\n",
              "    <tr>\n",
              "      <th>5</th>\n",
              "      <td>Warren Buffett</td>\n",
              "      <td>96.0</td>\n",
              "      <td>United States</td>\n",
              "      <td>Berkshire Hathaway</td>\n",
              "      <td>6</td>\n",
              "      <td>90.0</td>\n",
              "      <td>True</td>\n",
              "    </tr>\n",
              "    <tr>\n",
              "      <th>6</th>\n",
              "      <td>Larry Ellison</td>\n",
              "      <td>93.0</td>\n",
              "      <td>United States</td>\n",
              "      <td>software</td>\n",
              "      <td>7</td>\n",
              "      <td>76.0</td>\n",
              "      <td>True</td>\n",
              "    </tr>\n",
              "  </tbody>\n",
              "</table>\n",
              "</div>"
            ],
            "text/plain": [
              "                       Name  NetWorth        Country  ... Rank   Age  Self_made\n",
              "0                Jeff Bezos     177.0  United States  ...    1  57.0       True\n",
              "1                 Elon Musk     151.0  United States  ...    2  49.0       True\n",
              "2  Bernard Arnault & family     150.0         France  ...    3  72.0      False\n",
              "3                Bill Gates     124.0  United States  ...    4  65.0       True\n",
              "4           Mark Zuckerberg      97.0  United States  ...    5  36.0       True\n",
              "5            Warren Buffett      96.0  United States  ...    6  90.0       True\n",
              "6             Larry Ellison      93.0  United States  ...    7  76.0       True\n",
              "\n",
              "[7 rows x 7 columns]"
            ]
          },
          "metadata": {
            "tags": []
          },
          "execution_count": 26
        }
      ]
    },
    {
      "cell_type": "code",
      "metadata": {
        "colab": {
          "base_uri": "https://localhost:8080/"
        },
        "id": "-RUAyaSoGgG6",
        "outputId": "666ab1bf-8677-4e6e-ce3c-7769533f2d57"
      },
      "source": [
        "df[\"Self_made\"].isnull().any()"
      ],
      "execution_count": 27,
      "outputs": [
        {
          "output_type": "execute_result",
          "data": {
            "text/plain": [
              "False"
            ]
          },
          "metadata": {
            "tags": []
          },
          "execution_count": 27
        }
      ]
    },
    {
      "cell_type": "code",
      "metadata": {
        "colab": {
          "base_uri": "https://localhost:8080/",
          "height": 325
        },
        "id": "MEuKWGM5Gkgd",
        "outputId": "b32d0845-3109-4928-e19c-3d996bf8ace3"
      },
      "source": [
        "with plt.style.context(\"fivethirtyeight\"):\n",
        "  plt.scatter(df.Age,df.NetWorth,s=10)\n",
        "  plt.xlabel(\"age\")\n",
        "  plt.ylabel(\"networth\")\n",
        "  plt.title(\"age vs networth\")\n",
        "  plt.show()"
      ],
      "execution_count": 53,
      "outputs": [
        {
          "output_type": "display_data",
          "data": {
            "image/png": "[encoded data removed]",
            "text/plain": [
              "<Figure size 432x288 with 1 Axes>"
            ]
          },
          "metadata": {
            "tags": []
          }
        }
      ]
    },
    {
      "cell_type": "code",
      "metadata": {
        "colab": {
          "base_uri": "https://localhost:8080/",
          "height": 297
        },
        "id": "SL1vBOnVHnQD",
        "outputId": "5a5dcaf1-7dbb-492e-9439-2c63e213cdec"
      },
      "source": [
        "sns.countplot(x=\"Self_made\",data=df,hue=\"Self_made\")\n"
      ],
      "execution_count": 29,
      "outputs": [
        {
          "output_type": "execute_result",
          "data": {
            "text/plain": [
              "<matplotlib.axes._subplots.AxesSubplot at 0x7f218f98f290>"
            ]
          },
          "metadata": {
            "tags": []
          },
          "execution_count": 29
        },
        {
          "output_type": "display_data",
          "data": {
            "image/png": "[encoded data removed]",
            "text/plain": [
              "<Figure size 432x288 with 1 Axes>"
            ]
          },
          "metadata": {
            "tags": [],
            "needs_background": "light"
          }
        }
      ]
    },
    {
      "cell_type": "code",
      "metadata": {
        "colab": {
          "base_uri": "https://localhost:8080/"
        },
        "id": "xnqprqGQH6-9",
        "outputId": "bda4c8e2-ee5e-4220-e11c-0a2a3aab07a7"
      },
      "source": [
        "df.nlargest(10,\"NetWorth\")[\"Self_made\"].value_counts()"
      ],
      "execution_count": 31,
      "outputs": [
        {
          "output_type": "execute_result",
          "data": {
            "text/plain": [
              "True     8\n",
              "False    2\n",
              "Name: Self_made, dtype: int64"
            ]
          },
          "metadata": {
            "tags": []
          },
          "execution_count": 31
        }
      ]
    },
    {
      "cell_type": "code",
      "metadata": {
        "colab": {
          "base_uri": "https://localhost:8080/",
          "height": 654
        },
        "id": "zAouakWLID8D",
        "outputId": "7c6d0410-c4ba-4659-d821-db860523cd62"
      },
      "source": [
        "with plt.style.context(\"fivethirtyeight\"):\n",
        "  df.NetWorth.hist(figsize=(10,10),bins=40)\n",
        "  plt.xlabel(\"Networth\")\n",
        "  plt.ylabel(\"no of billionaries\")\n",
        "  plt.show()"
      ],
      "execution_count": 36,
      "outputs": [
        {
          "output_type": "display_data",
          "data": {
            "image/png": "[encoded data removed]",
            "text/plain": [
              "<Figure size 720x720 with 1 Axes>"
            ]
          },
          "metadata": {
            "tags": []
          }
        }
      ]
    },
    {
      "cell_type": "code",
      "metadata": {
        "colab": {
          "base_uri": "https://localhost:8080/"
        },
        "id": "EaFrLKSoI1ki",
        "outputId": "c5394ff5-7bb8-45f1-ad39-f45c2eadb934"
      },
      "source": [
        "df[df.NetWorth>=100].value_counts()"
      ],
      "execution_count": 38,
      "outputs": [
        {
          "output_type": "execute_result",
          "data": {
            "text/plain": [
              "Name                      NetWorth  Country        Source         Rank  Age   Self_made\n",
              "Jeff Bezos                177.0     United States  Amazon         1     57.0  True         1\n",
              "Elon Musk                 151.0     United States  Tesla, SpaceX  2     49.0  True         1\n",
              "Bill Gates                124.0     United States  Microsoft      4     65.0  True         1\n",
              "Bernard Arnault & family  150.0     France         LVMH           3     72.0  False        1\n",
              "dtype: int64"
            ]
          },
          "metadata": {
            "tags": []
          },
          "execution_count": 38
        }
      ]
    },
    {
      "cell_type": "code",
      "metadata": {
        "colab": {
          "base_uri": "https://localhost:8080/"
        },
        "id": "QmQLnOcvJqIP",
        "outputId": "92d433c6-98c8-4162-b08e-eebd172b29f0"
      },
      "source": [
        "df[df.NetWorth<50].value_counts().sum()"
      ],
      "execution_count": 40,
      "outputs": [
        {
          "output_type": "execute_result",
          "data": {
            "text/plain": [
              "2731"
            ]
          },
          "metadata": {
            "tags": []
          },
          "execution_count": 40
        }
      ]
    },
    {
      "cell_type": "code",
      "metadata": {
        "colab": {
          "base_uri": "https://localhost:8080/",
          "height": 77
        },
        "id": "7jBYzcwWJ3WN",
        "outputId": "10d3740a-e4de-4f9c-adeb-773c55164ede"
      },
      "source": [
        "x=df.Age.min()\n",
        "df[df.Age==x]"
      ],
      "execution_count": 45,
      "outputs": [
        {
          "output_type": "execute_result",
          "data": {
            "text/html": [
              "<div>\n",
              "<style scoped>\n",
              "    .dataframe tbody tr th:only-of-type {\n",
              "        vertical-align: middle;\n",
              "    }\n",
              "\n",
              "    .dataframe tbody tr th {\n",
              "        vertical-align: top;\n",
              "    }\n",
              "\n",
              "    .dataframe thead th {\n",
              "        text-align: right;\n",
              "    }\n",
              "</style>\n",
              "<table border=\"1\" class=\"dataframe\">\n",
              "  <thead>\n",
              "    <tr style=\"text-align: right;\">\n",
              "      <th></th>\n",
              "      <th>Name</th>\n",
              "      <th>NetWorth</th>\n",
              "      <th>Country</th>\n",
              "      <th>Source</th>\n",
              "      <th>Rank</th>\n",
              "      <th>Age</th>\n",
              "      <th>Self_made</th>\n",
              "    </tr>\n",
              "  </thead>\n",
              "  <tbody>\n",
              "    <tr>\n",
              "      <th>940</th>\n",
              "      <td>Kevin David Lehmann</td>\n",
              "      <td>3.3</td>\n",
              "      <td>Germany</td>\n",
              "      <td>drugstores</td>\n",
              "      <td>925</td>\n",
              "      <td>18.0</td>\n",
              "      <td>False</td>\n",
              "    </tr>\n",
              "  </tbody>\n",
              "</table>\n",
              "</div>"
            ],
            "text/plain": [
              "                    Name  NetWorth  Country      Source  Rank   Age Self_made\n",
              "940  Kevin David Lehmann       3.3  Germany  drugstores   925  18.0     False"
            ]
          },
          "metadata": {
            "tags": []
          },
          "execution_count": 45
        }
      ]
    },
    {
      "cell_type": "code",
      "metadata": {
        "colab": {
          "base_uri": "https://localhost:8080/",
          "height": 77
        },
        "id": "2T17MIX0KHcR",
        "outputId": "1d28c86e-8dc3-4d4c-9eff-1f70c1b231bf"
      },
      "source": [
        "y=df.Age.max()\n",
        "df[df.Age==y]"
      ],
      "execution_count": 46,
      "outputs": [
        {
          "output_type": "execute_result",
          "data": {
            "text/html": [
              "<div>\n",
              "<style scoped>\n",
              "    .dataframe tbody tr th:only-of-type {\n",
              "        vertical-align: middle;\n",
              "    }\n",
              "\n",
              "    .dataframe tbody tr th {\n",
              "        vertical-align: top;\n",
              "    }\n",
              "\n",
              "    .dataframe thead th {\n",
              "        text-align: right;\n",
              "    }\n",
              "</style>\n",
              "<table border=\"1\" class=\"dataframe\">\n",
              "  <thead>\n",
              "    <tr style=\"text-align: right;\">\n",
              "      <th></th>\n",
              "      <th>Name</th>\n",
              "      <th>NetWorth</th>\n",
              "      <th>Country</th>\n",
              "      <th>Source</th>\n",
              "      <th>Rank</th>\n",
              "      <th>Age</th>\n",
              "      <th>Self_made</th>\n",
              "    </tr>\n",
              "  </thead>\n",
              "  <tbody>\n",
              "    <tr>\n",
              "      <th>1611</th>\n",
              "      <td>George Joseph</td>\n",
              "      <td>2.0</td>\n",
              "      <td>United States</td>\n",
              "      <td>insurance</td>\n",
              "      <td>1580</td>\n",
              "      <td>99.0</td>\n",
              "      <td>True</td>\n",
              "    </tr>\n",
              "  </tbody>\n",
              "</table>\n",
              "</div>"
            ],
            "text/plain": [
              "               Name  NetWorth        Country     Source  Rank   Age Self_made\n",
              "1611  George Joseph       2.0  United States  insurance  1580  99.0      True"
            ]
          },
          "metadata": {
            "tags": []
          },
          "execution_count": 46
        }
      ]
    },
    {
      "cell_type": "code",
      "metadata": {
        "colab": {
          "base_uri": "https://localhost:8080/"
        },
        "id": "jzLXJ5wIKKNg",
        "outputId": "56845af3-0db5-4743-a9a1-7cbedca6268b"
      },
      "source": [
        "df.Rank.value_counts()"
      ],
      "execution_count": 47,
      "outputs": [
        {
          "output_type": "execute_result",
          "data": {
            "text/plain": [
              "2524    150\n",
              "2378    146\n",
              "2141    122\n",
              "2263    115\n",
              "2035    106\n",
              "       ... \n",
              "77        1\n",
              "73        1\n",
              "69        1\n",
              "65        1\n",
              "2         1\n",
              "Name: Rank, Length: 245, dtype: int64"
            ]
          },
          "metadata": {
            "tags": []
          },
          "execution_count": 47
        }
      ]
    },
    {
      "cell_type": "markdown",
      "metadata": {
        "id": "B122ri1JKlnZ"
      },
      "source": [
        "### as you see here there are numbers of persons placed in a same rank itself so to have a rank for each and every person"
      ]
    },
    {
      "cell_type": "code",
      "metadata": {
        "colab": {
          "base_uri": "https://localhost:8080/",
          "height": 254
        },
        "id": "Fo1zUCeEKdng",
        "outputId": "dcbd7bd9-cd25-4d70-a3cb-7051c7c9d2b2"
      },
      "source": [
        "df[\"new_rank\"]=df[\"Rank\"].index+1\n",
        "df.head(7)"
      ],
      "execution_count": 49,
      "outputs": [
        {
          "output_type": "execute_result",
          "data": {
            "text/html": [
              "<div>\n",
              "<style scoped>\n",
              "    .dataframe tbody tr th:only-of-type {\n",
              "        vertical-align: middle;\n",
              "    }\n",
              "\n",
              "    .dataframe tbody tr th {\n",
              "        vertical-align: top;\n",
              "    }\n",
              "\n",
              "    .dataframe thead th {\n",
              "        text-align: right;\n",
              "    }\n",
              "</style>\n",
              "<table border=\"1\" class=\"dataframe\">\n",
              "  <thead>\n",
              "    <tr style=\"text-align: right;\">\n",
              "      <th></th>\n",
              "      <th>Name</th>\n",
              "      <th>NetWorth</th>\n",
              "      <th>Country</th>\n",
              "      <th>Source</th>\n",
              "      <th>Rank</th>\n",
              "      <th>Age</th>\n",
              "      <th>Self_made</th>\n",
              "      <th>new_rank</th>\n",
              "    </tr>\n",
              "  </thead>\n",
              "  <tbody>\n",
              "    <tr>\n",
              "      <th>0</th>\n",
              "      <td>Jeff Bezos</td>\n",
              "      <td>177.0</td>\n",
              "      <td>United States</td>\n",
              "      <td>Amazon</td>\n",
              "      <td>1</td>\n",
              "      <td>57.0</td>\n",
              "      <td>True</td>\n",
              "      <td>1</td>\n",
              "    </tr>\n",
              "    <tr>\n",
              "      <th>1</th>\n",
              "      <td>Elon Musk</td>\n",
              "      <td>151.0</td>\n",
              "      <td>United States</td>\n",
              "      <td>Tesla, SpaceX</td>\n",
              "      <td>2</td>\n",
              "      <td>49.0</td>\n",
              "      <td>True</td>\n",
              "      <td>2</td>\n",
              "    </tr>\n",
              "    <tr>\n",
              "      <th>2</th>\n",
              "      <td>Bernard Arnault &amp; family</td>\n",
              "      <td>150.0</td>\n",
              "      <td>France</td>\n",
              "      <td>LVMH</td>\n",
              "      <td>3</td>\n",
              "      <td>72.0</td>\n",
              "      <td>False</td>\n",
              "      <td>3</td>\n",
              "    </tr>\n",
              "    <tr>\n",
              "      <th>3</th>\n",
              "      <td>Bill Gates</td>\n",
              "      <td>124.0</td>\n",
              "      <td>United States</td>\n",
              "      <td>Microsoft</td>\n",
              "      <td>4</td>\n",
              "      <td>65.0</td>\n",
              "      <td>True</td>\n",
              "      <td>4</td>\n",
              "    </tr>\n",
              "    <tr>\n",
              "      <th>4</th>\n",
              "      <td>Mark Zuckerberg</td>\n",
              "      <td>97.0</td>\n",
              "      <td>United States</td>\n",
              "      <td>Facebook</td>\n",
              "      <td>5</td>\n",
              "      <td>36.0</td>\n",
              "      <td>True</td>\n",
              "      <td>5</td>\n",
              "    </tr>\n",
              "    <tr>\n",
              "      <th>5</th>\n",
              "      <td>Warren Buffett</td>\n",
              "      <td>96.0</td>\n",
              "      <td>United States</td>\n",
              "      <td>Berkshire Hathaway</td>\n",
              "      <td>6</td>\n",
              "      <td>90.0</td>\n",
              "      <td>True</td>\n",
              "      <td>6</td>\n",
              "    </tr>\n",
              "    <tr>\n",
              "      <th>6</th>\n",
              "      <td>Larry Ellison</td>\n",
              "      <td>93.0</td>\n",
              "      <td>United States</td>\n",
              "      <td>software</td>\n",
              "      <td>7</td>\n",
              "      <td>76.0</td>\n",
              "      <td>True</td>\n",
              "      <td>7</td>\n",
              "    </tr>\n",
              "  </tbody>\n",
              "</table>\n",
              "</div>"
            ],
            "text/plain": [
              "                       Name  NetWorth        Country  ...   Age  Self_made  new_rank\n",
              "0                Jeff Bezos     177.0  United States  ...  57.0       True         1\n",
              "1                 Elon Musk     151.0  United States  ...  49.0       True         2\n",
              "2  Bernard Arnault & family     150.0         France  ...  72.0      False         3\n",
              "3                Bill Gates     124.0  United States  ...  65.0       True         4\n",
              "4           Mark Zuckerberg      97.0  United States  ...  36.0       True         5\n",
              "5            Warren Buffett      96.0  United States  ...  90.0       True         6\n",
              "6             Larry Ellison      93.0  United States  ...  76.0       True         7\n",
              "\n",
              "[7 rows x 8 columns]"
            ]
          },
          "metadata": {
            "tags": []
          },
          "execution_count": 49
        }
      ]
    },
    {
      "cell_type": "code",
      "metadata": {
        "colab": {
          "base_uri": "https://localhost:8080/"
        },
        "id": "YXmE8EwRK_dN",
        "outputId": "a5af3a13-6fa2-4a39-bd1e-1775a2d2bea0"
      },
      "source": [
        "df.new_rank.value_counts()"
      ],
      "execution_count": 51,
      "outputs": [
        {
          "output_type": "execute_result",
          "data": {
            "text/plain": [
              "2047    1\n",
              "1122    1\n",
              "1138    1\n",
              "1136    1\n",
              "1134    1\n",
              "       ..\n",
              "2506    1\n",
              "457     1\n",
              "2504    1\n",
              "455     1\n",
              "2049    1\n",
              "Name: new_rank, Length: 2755, dtype: int64"
            ]
          },
          "metadata": {
            "tags": []
          },
          "execution_count": 51
        }
      ]
    },
    {
      "cell_type": "code",
      "metadata": {
        "colab": {
          "base_uri": "https://localhost:8080/"
        },
        "id": "5MfRgfAvLHu_",
        "outputId": "b49a34ab-1987-439b-dd14-33e16616e5f1"
      },
      "source": [
        "print(\"there are total of {} countries \".format(len(df.Country.unique())))\n",
        "nation_count=df.Country.value_counts()[0:]"
      ],
      "execution_count": 62,
      "outputs": [
        {
          "output_type": "stream",
          "text": [
            "there are total of 70 countries \n"
          ],
          "name": "stdout"
        }
      ]
    },
    {
      "cell_type": "code",
      "metadata": {
        "colab": {
          "base_uri": "https://localhost:8080/"
        },
        "id": "spaEeM72Ml8C",
        "outputId": "cdb3c51e-578f-4adf-8495-171887641c22"
      },
      "source": [
        "nation_count.head(10)"
      ],
      "execution_count": 65,
      "outputs": [
        {
          "output_type": "execute_result",
          "data": {
            "text/plain": [
              "United States     724\n",
              "China             626\n",
              "India             140\n",
              "Germany           136\n",
              "Russia            118\n",
              "Hong Kong          71\n",
              "Brazil             65\n",
              "Canada             64\n",
              "United Kingdom     56\n",
              "Italy              51\n",
              "Name: Country, dtype: int64"
            ]
          },
          "metadata": {
            "tags": []
          },
          "execution_count": 65
        }
      ]
    },
    {
      "cell_type": "code",
      "metadata": {
        "colab": {
          "base_uri": "https://localhost:8080/"
        },
        "id": "vO2YvRISPB6k",
        "outputId": "38d0d9bb-2043-4867-b593-2ddf80073c16"
      },
      "source": [
        ""
      ],
      "execution_count": 72,
      "outputs": [
        {
          "output_type": "execute_result",
          "data": {
            "text/plain": [
              "1"
            ]
          },
          "metadata": {
            "tags": []
          },
          "execution_count": 72
        }
      ]
    },
    {
      "cell_type": "code",
      "metadata": {
        "colab": {
          "base_uri": "https://localhost:8080/",
          "height": 773
        },
        "id": "sPMTt_LANDCs",
        "outputId": "c0366513-5149-4edc-b67e-dd37e1d31664"
      },
      "source": [
        "with plt.style.context(\"fivethirtyeight\"):\n",
        " nation_count.head(10).plot(kind=\"bar\",figsize=(10,10))  ## in here if we use kind=\"barh\" the plot will appear with respect to x-axis\n",
        " plt.xlabel(\"countries\")\n",
        " plt.ylabel(\"no of billionaries\")\n",
        " plt.grid(axis=\"x\")\n",
        " plt.title(\"billionaries in each countries\")\n",
        " plt.show()"
      ],
      "execution_count": 78,
      "outputs": [
        {
          "output_type": "display_data",
          "data": {
            "image/png": "[encoded data removed]",
            "text/plain": [
              "<Figure size 720x720 with 1 Axes>"
            ]
          },
          "metadata": {
            "tags": []
          }
        }
      ]
    },
    {
      "cell_type": "code",
      "metadata": {
        "id": "sVQSzf7yOL6E"
      },
      "source": [
        ""
      ],
      "execution_count": null,
      "outputs": []
    }
  ]
}