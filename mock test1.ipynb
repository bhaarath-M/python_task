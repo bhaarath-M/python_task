{
 "cells": [
  {
   "cell_type": "code",
   "execution_count": 32,
   "metadata": {},
   "outputs": [
    {
     "name": "stdout",
     "output_type": "stream",
     "text": [
      "enter the values with space:100 200 bh 12 45 \n",
      " please enter only numbers\n"
     ]
    }
   ],
   "source": [
    "try:\n",
    "    i=(input(\"enter the values with space:\"))\n",
    "    user_input=i.split()\n",
    "    for x in range(len(user_input)):       #in here i have used for loop to convert the string enter by the user into \n",
    "        user_input[x]=int(user_input[x])   # an individual numbers and running the list through for loop to find the highest number \n",
    "    a=0                                    #in the particular list\n",
    "    for num in user_input:\n",
    "        if(num>a):\n",
    "            a=num\n",
    "        else:\n",
    "            pass\n",
    "    print(\"the highest number in the list is:\",a)\n",
    "except ValueError:\n",
    "    print(\" please enter only numbers\")   # with the help of try and except we can avoid the termination of the program \n",
    "                                          #if any error occurs\n",
    "\n",
    "    \n",
    "    \n"
   ]
  },
  {
   "cell_type": "code",
   "execution_count": null,
   "metadata": {},
   "outputs": [],
   "source": []
  },
  {
   "cell_type": "code",
   "execution_count": null,
   "metadata": {},
   "outputs": [],
   "source": []
  }
 ],
 "metadata": {
  "kernelspec": {
   "display_name": "Python 3",
   "language": "python",
   "name": "python3"
  },
  "language_info": {
   "codemirror_mode": {
    "name": "ipython",
    "version": 3
   },
   "file_extension": ".py",
   "mimetype": "text/x-python",
   "name": "python",
   "nbconvert_exporter": "python",
   "pygments_lexer": "ipython3",
   "version": "3.8.5"
  }
 },
 "nbformat": 4,
 "nbformat_minor": 4
}
